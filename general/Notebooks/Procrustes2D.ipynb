{
 "cells": [
  {
   "cell_type": "code",
   "execution_count": 1,
   "id": "ca41a473",
   "metadata": {},
   "outputs": [
    {
     "name": "stdout",
     "output_type": "stream",
     "text": [
      "/hdd/aouadt/these/projets/3d_segm\n"
     ]
    }
   ],
   "source": [
    "%cd .."
   ]
  },
  {
   "cell_type": "code",
   "execution_count": 2,
   "id": "b1471867",
   "metadata": {},
   "outputs": [],
   "source": [
    "# %% Morp Registration\n",
    "from importlib import reload\n",
    "import os\n",
    "\n",
    "import nibabel as nib\n",
    "import cv2\n",
    "from time import time\n",
    "import numpy as np\n",
    "import matplotlib.pyplot as plt\n",
    "import torch\n",
    "import torch.nn as nn\n",
    "import torch.nn.functional as F\n",
    "import skimage.morphology as morp\n",
    "import skimage.measure as meas\n",
    "from scipy.ndimage import rotate\n",
    "from scipy.spatial import procrustes\n",
    "import matplotlib.pyplot as plt\n",
    "from mpl_toolkits.mplot3d import Axes3D\n",
    "\n",
    "import general.utils as u\n",
    "import general.array_morphology as am\n",
    "\n",
    "def reload_modules():\n",
    "    for modl in [u, am]:\n",
    "        reload(modl)\n",
    "\n",
    "reload_modules()"
   ]
  },
  {
   "cell_type": "code",
   "execution_count": 3,
   "id": "f4ab991c",
   "metadata": {},
   "outputs": [],
   "source": [
    "# %%\n",
    "def plot_arrays(*ars):\n",
    "    plt.close()\n",
    "    fig, axs = plt.subplots(1, len(ars))\n",
    "    for i in range(len(axs)):\n",
    "        axs[i].imshow(ars[i], interpolation='nearest')\n",
    "    fig.show()\n",
    "\n",
    "\n",
    "def show_point_cloud(*ars, shape=(100, 100)):\n",
    "    toshows = []\n",
    "\n",
    "    for ar in ars:\n",
    "        toshow = np.zeros(shape)\n",
    "        toshow[ar[:, 0].round().astype(int), ar[:, 1].round().astype(int)] = 1\n",
    "        toshows.append(toshow)\n",
    "\n",
    "    plot_arrays(*toshows)\n",
    "\n",
    "\n",
    "def sort_points(X):\n",
    "\n",
    "    x, y = X[:, 0], X[:, 1]\n",
    "    x0 = np.mean(x)\n",
    "    y0 = np.mean(y)\n",
    "\n",
    "    r = np.sqrt((x-x0)**2 + (y-y0)**2)\n",
    "\n",
    "    angles = np.where((y-y0) > 0, np.arccos((x-x0)/r), 2*np.pi-np.arccos((x-x0)/r))\n",
    "\n",
    "    mask = np.argsort(angles)\n",
    "\n",
    "    x_sorted = x[mask]\n",
    "    y_sorted = y[mask]\n",
    "\n",
    "    return np.stack((x_sorted, y_sorted)).T\n"
   ]
  },
  {
   "cell_type": "code",
   "execution_count": 6,
   "id": "07978f8a",
   "metadata": {},
   "outputs": [
    {
     "name": "stdout",
     "output_type": "stream",
     "text": [
      "400 632\n",
      "80 88\n"
     ]
    }
   ],
   "source": [
    "# %%\n",
    "plt.close()\n",
    "ar1 = np.zeros((100, 100))\n",
    "ar1[40: 60, 40:60] = 1\n",
    "ar1 = ar1.astype(int)\n",
    "\n",
    "ar2 = np.zeros((100, 100))\n",
    "ar2[44: 69, 44: 69] = 1\n",
    "ar2 = rotate(ar2, 30) > .4\n",
    "ar2 = ar2[30: 130, 30: 130]\n",
    "# ar2[30:70, 30:70] = 1\n",
    "\n",
    "print(ar1.sum(), ar2.sum())\n",
    "\n",
    "selem = morp.disk(1)\n",
    "bord1 = am.array_dilation(ar1, selem) - ar1\n",
    "bord2 = am.array_dilation(ar2, selem) - ar2\n",
    "\n",
    "print(bord1.sum(), bord2.sum())"
   ]
  },
  {
   "cell_type": "code",
   "execution_count": 7,
   "id": "81f6116e",
   "metadata": {},
   "outputs": [
    {
     "data": {
      "image/png": "[encoded data removed]",
      "text/plain": [
       "<Figure size 432x288 with 2 Axes>"
      ]
     },
     "metadata": {
      "needs_background": "light"
     },
     "output_type": "display_data"
    }
   ],
   "source": [
    "# %%\n",
    "plot_arrays(ar1, ar2)\n"
   ]
  },
  {
   "cell_type": "code",
   "execution_count": 8,
   "id": "52a552af",
   "metadata": {},
   "outputs": [
    {
     "data": {
      "image/png": "[encoded data removed]",
      "text/plain": [
       "<Figure size 432x288 with 2 Axes>"
      ]
     },
     "metadata": {
      "needs_background": "light"
     },
     "output_type": "display_data"
    }
   ],
   "source": [
    "# %%\n",
    "plot_arrays(bord1, bord2)\n"
   ]
  },
  {
   "cell_type": "code",
   "execution_count": 9,
   "id": "f2741c57",
   "metadata": {},
   "outputs": [
    {
     "name": "stdout",
     "output_type": "stream",
     "text": [
      "84 84\n"
     ]
    }
   ],
   "source": [
    "# %%\n",
    "\n",
    "bord1r = cv2.resize(bord1, (102, 102), interpolation=cv2.INTER_NEAREST)\n",
    "bord2r = cv2.resize(bord2, (98, 98), interpolation=cv2.INTER_NEAREST)\n",
    "print(bord1r.sum(), bord2r.sum())"
   ]
  },
  {
   "cell_type": "code",
   "execution_count": 10,
   "id": "0a76f9b7",
   "metadata": {},
   "outputs": [
    {
     "data": {
      "image/png": "[encoded data removed]",
      "text/plain": [
       "<Figure size 432x288 with 2 Axes>"
      ]
     },
     "metadata": {
      "needs_background": "light"
     },
     "output_type": "display_data"
    }
   ],
   "source": [
    "# %%\n",
    "plot_arrays(bord1r, bord2r)"
   ]
  },
  {
   "cell_type": "code",
   "execution_count": 11,
   "id": "202431e6",
   "metadata": {},
   "outputs": [
    {
     "name": "stdout",
     "output_type": "stream",
     "text": [
      "80 88\n",
      "7 7\n"
     ]
    },
    {
     "data": {
      "image/png": "[encoded data removed]",
      "text/plain": [
       "<Figure size 432x288 with 4 Axes>"
      ]
     },
     "metadata": {
      "needs_background": "light"
     },
     "output_type": "display_data"
    }
   ],
   "source": [
    "# %%\n",
    "x1s, y1s = np.where(bord1 != 0)\n",
    "x2s, y2s = np.where(bord2 != 0)\n",
    "\n",
    "X1 = sort_points(np.stack((x1s, y1s)).T)\n",
    "X2 = sort_points(np.stack((x2s, y2s)).T)\n",
    "\n",
    "\n",
    "print(len(x1s), len(x2s))\n",
    "\n",
    "npoints = 7\n",
    "\n",
    "X1s = X1[np.linspace(0, len(x1s)-1, npoints).round().astype(int)]\n",
    "X2s = X2[np.linspace(0, len(x2s)-1, npoints).round().astype(int)]\n",
    "print(len(X1s), len(X2s))\n",
    "\n",
    "show_point_cloud(X1, X1s, X2s, X2)"
   ]
  },
  {
   "cell_type": "code",
   "execution_count": 19,
   "id": "9f4ac733",
   "metadata": {},
   "outputs": [],
   "source": [
    "# %%\n",
    "\n",
    "def get_transform_procrustes(ar1, ar2):\n",
    "    \"\"\"\n",
    "    Solves min_T || ar1 @ T - ar2||\n",
    "    \"\"\"\n",
    "    return np.linalg.inv(ar1.T @ ar1) @ ar1.T @ ar2\n",
    "\n",
    "def iteration_procrustes(ar1, ar2):\n",
    "    T = get_transform_procrustes(ar1, ar2)\n",
    "    err = np.linalg.norm(ar1 @ T - ar2)\n",
    "    return T, err\n",
    "\n",
    "def solve_procrustes(ar1, ar2):\n",
    "    best_err = np.infty\n",
    "    best_T = None\n",
    "\n",
    "    print(\"Computing permutations...\")\n",
    "    all_permuts = u.get_arrangements(len(ar1))\n",
    "    print(f\"Done. {len(all_permuts)} permutations being tried.\")\n",
    "    all_errs = []\n",
    "    all_Ts = []\n",
    "    for perm in all_permuts:\n",
    "        ar2p = ar2[perm]\n",
    "        T, err = iteration_procrustes(ar1, ar2p)\n",
    "        all_errs.append(err)\n",
    "        all_Ts.append(T)\n",
    "        if err < best_err:\n",
    "            best_T, best_err = T, err\n",
    "\n",
    "    return best_T, best_err, all_errs, all_Ts\n",
    "\n",
    "\n",
    "\n",
    "def get_rot_matrix(angle):\n",
    "    return np.array([\n",
    "        [np.cos(angle), - np.sin(angle)],\n",
    "        [np.sin(angle), np.cos(angle)]\n",
    "    ])"
   ]
  },
  {
   "cell_type": "code",
   "execution_count": 20,
   "id": "c1c4b8cb",
   "metadata": {},
   "outputs": [
    {
     "name": "stdout",
     "output_type": "stream",
     "text": [
      "Computing permutations...\n",
      "Done. 5040 permutations being tried.\n",
      "0.1194906234741211\n"
     ]
    },
    {
     "data": {
      "image/png": "[encoded data removed]",
      "text/plain": [
       "<Figure size 432x288 with 3 Axes>"
      ]
     },
     "metadata": {
      "needs_background": "light"
     },
     "output_type": "display_data"
    }
   ],
   "source": [
    "# %%\n",
    "reload_modules()\n",
    "plt.close()\n",
    "\n",
    "t1 = time()\n",
    "T, err, all_errs, all_Ts = solve_procrustes(X1s - X1s.mean(0), X2s - X2s.mean(0))\n",
    "print(time() - t1)\n",
    "# T = get_rot_matrix(np.pi/6).T\n",
    "\n",
    "show_point_cloud(X1, X2, ((X1 - X1.mean(0))@T) + 50)\n"
   ]
  },
  {
   "cell_type": "code",
   "execution_count": 21,
   "id": "98a1a636",
   "metadata": {},
   "outputs": [
    {
     "data": {
      "image/png": "[encoded data removed]",
      "text/plain": [
       "<Figure size 432x288 with 1 Axes>"
      ]
     },
     "metadata": {
      "needs_background": "light"
     },
     "output_type": "display_data"
    }
   ],
   "source": [
    "# %%\n",
    "plt.plot(all_errs)\n",
    "plt.show()"
   ]
  },
  {
   "cell_type": "code",
   "execution_count": 25,
   "id": "8574a199",
   "metadata": {},
   "outputs": [
    {
     "data": {
      "image/png": "[encoded data removed]",
      "text/plain": [
       "<Figure size 432x288 with 3 Axes>"
      ]
     },
     "metadata": {
      "needs_background": "light"
     },
     "output_type": "display_data"
    }
   ],
   "source": [
    "# %%\n",
    "# proc1, proc2, err = procrustes(X1 - X1.mean(0), X2 - X2.mean(0))\n",
    "proc1, proc2, err = procrustes(X1s, X2s)\n",
    "\n",
    "shape = 100\n",
    "proc1 = (proc1 - proc1.min()) / (proc1.max() - proc1.min()) * 25 + 40\n",
    "proc2 = (proc2 - proc2.min()) / (proc2.max() - proc2.min()) * 25 + 40\n",
    "\n",
    "show_point_cloud(X1, X2, proc2)\n"
   ]
  },
  {
   "cell_type": "code",
   "execution_count": null,
   "id": "802c037d",
   "metadata": {},
   "outputs": [],
   "source": [
    "# %%\n",
    "\n",
    "path_segm = os.path.abspath(\"/hdd/datasets/CT-ORG/raw/labels_and_README/labels-4.nii.gz\")\n",
    "\n",
    "seg3n = nib.load(path_segm)\n",
    "\n",
    "seg3 = np.round(seg3n.get_fdata()) == 2\n"
   ]
  },
  {
   "cell_type": "code",
   "execution_count": null,
   "id": "27029046",
   "metadata": {},
   "outputs": [],
   "source": [
    "# %%\n",
    "reload_modules()\n",
    "t1 = time()\n",
    "reg3 = (u.get_most_important_regions(seg3) > 0).astype(int)\n",
    "print(time() - t1)"
   ]
  },
  {
   "cell_type": "code",
   "execution_count": null,
   "id": "d9572858",
   "metadata": {},
   "outputs": [],
   "source": [
    "# %%\n",
    "\n",
    "t1 = time()\n",
    "verts, faces, normals, values = meas.marching_cubes(reg3)\n",
    "print(time() - t1)\n",
    "print(len(verts))\n"
   ]
  },
  {
   "cell_type": "code",
   "execution_count": null,
   "id": "a8cc0bea",
   "metadata": {},
   "outputs": [],
   "source": [
    "# %%\n",
    "plt.close()\n",
    "fig = plt.figure()\n",
    "ax = fig.add_subplot(111, projection='3d')\n",
    "ax.plot_trisurf(*verts.T)\n",
    "fig.show()"
   ]
  },
  {
   "cell_type": "code",
   "execution_count": null,
   "id": "5cbbe4c8",
   "metadata": {},
   "outputs": [],
   "source": [
    "# %%\n",
    "u.save_as_nii(\n",
    "    \"segmentations/CT_ORG/labels-4-opened.nii.gz\",\n",
    "    reg3,\n",
    "    seg3n.affine,\n",
    "    dtype=np.uint8\n",
    ")\n"
   ]
  }
 ],
 "metadata": {
  "kernelspec": {
   "display_name": "torchenv",
   "language": "python",
   "name": "torchenv"
  },
  "language_info": {
   "codemirror_mode": {
    "name": "ipython",
    "version": 3
   },
   "file_extension": ".py",
   "mimetype": "text/x-python",
   "name": "python",
   "nbconvert_exporter": "python",
   "pygments_lexer": "ipython3",
   "version": "3.8.0"
  }
 },
 "nbformat": 4,
 "nbformat_minor": 5
}
