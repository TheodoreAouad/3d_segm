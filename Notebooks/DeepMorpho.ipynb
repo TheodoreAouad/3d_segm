{
 "cells": [
  {
   "cell_type": "code",
   "execution_count": 1,
   "id": "1ca3c6a9",
   "metadata": {
    "scrolled": true
   },
   "outputs": [
    {
     "name": "stdout",
     "output_type": "stream",
     "text": [
      "/hdd/aouadt/these/projets/3d_segm\n"
     ]
    }
   ],
   "source": [
    "%cd .."
   ]
  },
  {
   "cell_type": "code",
   "execution_count": 2,
   "id": "2300060a",
   "metadata": {},
   "outputs": [
    {
     "name": "stdout",
     "output_type": "stream",
     "text": [
      "cuda\n"
     ]
    }
   ],
   "source": [
    "from importlib import reload\n",
    "import random\n",
    "from functools import reduce\n",
    "from os.path import join\n",
    "from time import time\n",
    "\n",
    "import numpy as np\n",
    "import matplotlib.pyplot as plt\n",
    "import torch\n",
    "import torch.nn as nn\n",
    "from torch.utils.data.dataloader import DataLoader\n",
    "import pytorch_lightning as pl\n",
    "import skimage.morphology as morp\n",
    "from pytorch_lightning import Trainer\n",
    "from pytorch_lightning.loggers import TensorBoardLogger\n",
    "from PIL import Image, ImageDraw\n",
    "\n",
    "\n",
    "\n",
    "import general.array_morphology as arm\n",
    "import deep_morpho.models.pconv as pconv\n",
    "import deep_morpho.models.lightning_pconv as lpconv\n",
    "import deep_morpho.models.bise as bise\n",
    "import deep_morpho.models.opening_net as onet\n",
    "import deep_morpho.models.bimonn as bimonn\n",
    "import deep_morpho.models as models\n",
    "import deep_morpho.models.lightning_bise as lbise\n",
    "import deep_morpho.models.lightning_opening_net as lon\n",
    "import deep_morpho.datasets.generate_forms1 as gfo\n",
    "import deep_morpho.datasets.generate_forms2 as gfo2\n",
    "import deep_morpho.datasets.generate_forms3 as gfo3\n",
    "import deep_morpho.datasets.multi_rect_dataset as mrda\n",
    "import deep_morpho.observables.plot_parameters as obs_weights\n",
    "import deep_morpho.observables.plot_pred as obs_pred\n",
    "import deep_morpho.observables.weight_histogram as weight_histogram\n",
    "import deep_morpho.observables as obs\n",
    "\n",
    "def reload_modules():\n",
    "    for modl in [arm, pconv, lpconv, bise, lbise, onet, bimonn, models, lon, gfo, gfo2, gfo3,\n",
    "                 mrda, obs_weights, obs_pred, obs,\n",
    "                weight_histogram]:\n",
    "        reload(modl)\n",
    "        \n",
    "reload_modules()\n",
    "\n",
    "device = 'cpu'\n",
    "if torch.cuda.is_available():\n",
    "    device = 'cuda'\n",
    "print(device)"
   ]
  },
  {
   "cell_type": "code",
   "execution_count": 3,
   "id": "0229ae83",
   "metadata": {},
   "outputs": [],
   "source": [
    "def plot_horizontal(imgs, title=None):\n",
    "    n_figs = len(imgs)\n",
    "    fig = plt.figure(figsize=(5*n_figs, 5))\n",
    "    for idx in range(1, n_figs + 1):\n",
    "        ax = fig.add_subplot(1, n_figs, idx)\n",
    "        ax.imshow(imgs[idx-1])\n",
    "        if title is not None:\n",
    "            ax.set_title(title[idx-1])\n"
   ]
  },
  {
   "cell_type": "markdown",
   "id": "5734a410",
   "metadata": {
    "heading_collapsed": true
   },
   "source": [
    "# In search of a soft tresholding function ..."
   ]
  },
  {
   "cell_type": "markdown",
   "id": "a8ff95b7",
   "metadata": {
    "hidden": true
   },
   "source": [
    "First guess:\n",
    "$$x \\mapsto \\sigma_{\\alpha, \\epsilon}(x) = \\sigma\\big[\\alpha(x - \\epsilon)\\big] = \\frac{1}{1 + e^{-\\alpha(x - \\epsilon)}}$$\n",
    "with $\\epsilon$ the threshold and $\\alpha > 0$ the tightness of thresholding."
   ]
  },
  {
   "cell_type": "code",
   "execution_count": 234,
   "id": "2ef856ad",
   "metadata": {
    "hidden": true
   },
   "outputs": [
    {
     "data": {
      "text/plain": [
       "<matplotlib.patches.Polygon at 0x7fe18ebad580>"
      ]
     },
     "execution_count": 234,
     "metadata": {},
     "output_type": "execute_result"
    },
    {
     "data": {
      "image/png": "[encoded data removed]",
      "text/plain": [
       "<Figure size 720x360 with 2 Axes>"
      ]
     },
     "metadata": {
      "needs_background": "light"
     },
     "output_type": "display_data"
    }
   ],
   "source": [
    "def sigma_inv(y, alpha):\n",
    "    return -1 / alpha * np.log(1 / y - 1)\n",
    "\n",
    "def sigma(y, alpha):\n",
    "    return 1 / (1 + np.exp(- alpha * x))\n",
    "\n",
    "N = 1000\n",
    "ALPHA = 5\n",
    "q1 = sigma_inv(0.05, ALPHA)\n",
    "q2 = sigma_inv(0.95, ALPHA)\n",
    "\n",
    "fig = plt.figure(figsize=(10, 5))\n",
    "\n",
    "x = np.linspace(-1, 1, N)\n",
    "y = sigma(x, ALPHA)\n",
    "ax = fig.add_subplot(121)\n",
    "ax.plot(x, y)\n",
    "ax.set_title(f\"alpha = {ALPHA}.  q(0.05) = {round(q1, 2)}  q(0.95) = {round(q2, 2)}\")\n",
    "ax.axvspan(q1, q2, alpha=.3,)\n",
    "\n",
    "x = np.linspace(0.001, 0.999, N)\n",
    "y = sigma_inv(x, ALPHA)\n",
    "ax = fig.add_subplot(122)\n",
    "ax.plot(x, y)\n",
    "ax.axhspan(q1, q2, alpha=.3)\n"
   ]
  },
  {
   "cell_type": "markdown",
   "id": "144f62e1",
   "metadata": {},
   "source": [
    "# Dataset"
   ]
  },
  {
   "cell_type": "markdown",
   "id": "32cfc9f6",
   "metadata": {
    "heading_collapsed": true
   },
   "source": [
    "## Rectangles"
   ]
  },
  {
   "cell_type": "code",
   "execution_count": 11,
   "id": "7c792902",
   "metadata": {
    "hidden": true
   },
   "outputs": [
    {
     "data": {
      "text/plain": [
       "<matplotlib.image.AxesImage at 0x7fa39509d430>"
      ]
     },
     "execution_count": 11,
     "metadata": {},
     "output_type": "execute_result"
    },
    {
     "data": {
      "image/png": "[encoded data removed]",
      "text/plain": [
       "<Figure size 432x288 with 1 Axes>"
      ]
     },
     "metadata": {
      "needs_background": "light"
     },
     "output_type": "display_data"
    }
   ],
   "source": [
    "reload_modules()\n",
    "x, rect_args = gfo.random_multi_rect(\n",
    "    size=(50, 50), \n",
    "    n_rectangles=8,\n",
    "    max_shape=(10, 10),\n",
    "    return_rects=True, \n",
    "    first_rect_args={\n",
    "        \"top_left_x_props\": (.3, .7),\n",
    "        \"top_left_y_props\": (.3, .7)\n",
    "    }\n",
    ")\n",
    "plt.imshow(x)\n"
   ]
  },
  {
   "cell_type": "code",
   "execution_count": 6,
   "id": "8d79f4f8",
   "metadata": {
    "hidden": true
   },
   "outputs": [
    {
     "name": "stdout",
     "output_type": "stream",
     "text": [
      "torch.Size([4, 1, 50, 50]) torch.Size([4, 50, 50])\n",
      "CPU times: user 657 ms, sys: 8.74 ms, total: 666 ms\n",
      "Wall time: 418 ms\n"
     ]
    },
    {
     "data": {
      "image/png": "[encoded data removed]",
      "text/plain": [
       "<Figure size 2880x360 with 8 Axes>"
      ]
     },
     "metadata": {
      "needs_background": "light"
     },
     "output_type": "display_data"
    }
   ],
   "source": [
    "%%time\n",
    "reload_modules()\n",
    "dataset = mrda.MultiRectDataset(size=(50, 50), n_rectangles=8, max_shape=(10, 10), selem=morp.disk(3))\n",
    "# input_, target = dataset[0]\n",
    "dataloader = DataLoader(dataset, batch_size=4)\n",
    "\n",
    "inputs, targets = next(iter(dataloader))\n",
    "print(inputs.shape, targets.shape)\n",
    "\n",
    "plot_horizontal(\n",
    "    reduce(lambda a,b: a+b, \n",
    "           [[inpt[0].cpu(), target.cpu()] for (inpt, target) in zip(inputs, targets)]))"
   ]
  },
  {
   "cell_type": "markdown",
   "id": "3f70f5aa",
   "metadata": {
    "heading_collapsed": true
   },
   "source": [
    "## Disks"
   ]
  },
  {
   "cell_type": "code",
   "execution_count": 29,
   "id": "8036d039",
   "metadata": {
    "hidden": true
   },
   "outputs": [],
   "source": [
    "ar = np.zeros((50, 50))\n",
    "radius = 10\n",
    "center = (14, 31)\n",
    "\n",
    "XX, YY = np.meshgrid(np.arangee(ar.shape[0]), np.arange(ar.shape[1]))"
   ]
  },
  {
   "cell_type": "code",
   "execution_count": 31,
   "id": "34c4cfca",
   "metadata": {
    "hidden": true
   },
   "outputs": [],
   "source": [
    "idxes = np.sqrt((XX - center[0])**2 + (YY - center[1])**2) - radius"
   ]
  },
  {
   "cell_type": "code",
   "execution_count": 33,
   "id": "ee6c3ea6",
   "metadata": {
    "hidden": true
   },
   "outputs": [
    {
     "data": {
      "text/plain": [
       "<matplotlib.image.AxesImage at 0x7f047f321fa0>"
      ]
     },
     "execution_count": 33,
     "metadata": {},
     "output_type": "execute_result"
    },
    {
     "data": {
      "image/png": "[encoded data removed]",
      "text/plain": [
       "<Figure size 432x288 with 1 Axes>"
      ]
     },
     "metadata": {
      "needs_background": "light"
     },
     "output_type": "display_data"
    }
   ],
   "source": [
    "plt.imshow(idxes > 0)"
   ]
  },
  {
   "cell_type": "code",
   "execution_count": 89,
   "id": "957ac8be",
   "metadata": {
    "hidden": true
   },
   "outputs": [
    {
     "data": {
      "text/plain": [
       "5"
      ]
     },
     "execution_count": 89,
     "metadata": {},
     "output_type": "execute_result"
    }
   ],
   "source": [
    "min(center_x - min_x, max_x - center_x, max_shape[0] // 2)"
   ]
  },
  {
   "cell_type": "code",
   "execution_count": 346,
   "id": "868d1c39",
   "metadata": {
    "hidden": true
   },
   "outputs": [],
   "source": [
    "reload_modules()\n",
    "size = (50, 50)\n",
    "n_shapes = 10\n",
    "max_shape = (10, 10)\n",
    "borders = (.1, .9)\n",
    "\n",
    "all_diskorect = [np.zeros(size)]\n",
    "min_x, min_y = int(size[0] * borders[0]), int(size[1] * borders[0])\n",
    "max_x, max_y = int(size[0] * borders[1]), int(size[1] * borders[1])\n",
    "\n"
   ]
  },
  {
   "cell_type": "code",
   "execution_count": 194,
   "id": "a043b818",
   "metadata": {
    "hidden": true
   },
   "outputs": [
    {
     "data": {
      "text/plain": [
       "2"
      ]
     },
     "execution_count": 194,
     "metadata": {},
     "output_type": "execute_result"
    }
   ],
   "source": [
    "min(center_x - min_x, max_x - center_x, max_shape[0] // 2)"
   ]
  },
  {
   "cell_type": "code",
   "execution_count": 207,
   "id": "f5e89e03",
   "metadata": {
    "hidden": true
   },
   "outputs": [
    {
     "data": {
      "text/plain": [
       "5"
      ]
     },
     "execution_count": 207,
     "metadata": {},
     "output_type": "execute_result"
    }
   ],
   "source": [
    "max_shape[0]//2"
   ]
  },
  {
   "cell_type": "code",
   "execution_count": 400,
   "id": "f6b3c59e",
   "metadata": {
    "hidden": true
   },
   "outputs": [
    {
     "name": "stdout",
     "output_type": "stream",
     "text": [
      "center pre clip 24 48\n",
      "center: 24 43\n",
      "W1 W2 L1 L2 22 26 41 44\n",
      "802.0\n"
     ]
    },
    {
     "data": {
      "image/png": "[encoded data removed]",
      "text/plain": [
       "<Figure size 432x288 with 1 Axes>"
      ]
     },
     "metadata": {
      "needs_background": "light"
     },
     "output_type": "display_data"
    }
   ],
   "source": [
    "\n",
    "diskorect = all_diskorect[-1] + 0\n",
    "not_0 = np.where(1 - diskorect)\n",
    "rand_idx = random.choice(range(len(not_0[0])))\n",
    "center_x, center_y = not_0[0][rand_idx], not_0[1][rand_idx]\n",
    "\n",
    "print(\"center pre clip\", center_x, center_y)\n",
    "center_x = min(max_x - 2, max(min_x + 2, center_x))\n",
    "center_y = min(max_y - 2, max(min_y + 2, center_y))\n",
    "\n",
    "print(\"center:\", center_x, center_y)\n",
    "\n",
    "if np.random.rand() > .5:\n",
    "    W1 = np.random.randint(1, min(center_x - min_x, max_shape[0] // 2))\n",
    "    W2 = np.random.randint(1, min(max_x - center_x, max_shape[0] // 2))\n",
    "\n",
    "    L1 = np.random.randint(1, min(center_y - min_y, max_shape[1] // 2))\n",
    "    L2 = np.random.randint(1, min(max_y - center_y, max_shape[1] // 2))\n",
    "\n",
    "    diskorect[center_x-W1:center_x+W2, center_y-L1:center_y+L2] = 1\n",
    "    print(\"W1 W2 L1 L2\", center_x-W1, center_x+W2, center_y-L1, center_y+L2)\n",
    "\n",
    "\n",
    "else:\n",
    "    radius = np.random.randint(1, min(center_x - min_x, max_x - center_x, max_shape[0]))\n",
    "    radius = min(max_x - center_x, center_x - min_x, max_y - center_y, center_y - min_y, radius)\n",
    "    gfo2.draw_disk(diskorect, (center_x, center_y), radius)\n",
    "    print(\"r=\", radius)\n",
    "\n",
    "all_diskorect.append(diskorect)\n",
    "\n",
    "disko_to_show = diskorect + 0\n",
    "disko_to_show[(diskorect - all_diskorect[-2]).astype(bool)] = 2\n",
    "plt.imshow(disko_to_show)\n",
    "print(diskorect.sum())"
   ]
  },
  {
   "cell_type": "code",
   "execution_count": 336,
   "id": "0800d861",
   "metadata": {
    "hidden": true
   },
   "outputs": [
    {
     "data": {
      "text/plain": [
       "1.0"
      ]
     },
     "execution_count": 336,
     "metadata": {},
     "output_type": "execute_result"
    }
   ],
   "source": [
    "all_diskorect[-2][39, 29]"
   ]
  },
  {
   "cell_type": "code",
   "execution_count": null,
   "id": "2f344f28",
   "metadata": {
    "hidden": true
   },
   "outputs": [],
   "source": []
  },
  {
   "cell_type": "code",
   "execution_count": 414,
   "id": "520592f0",
   "metadata": {
    "hidden": true
   },
   "outputs": [],
   "source": [
    "reload_modules()\n",
    "drc = gfo2.get_random_diskorect((50, 50), 30, (15, 15),)"
   ]
  },
  {
   "cell_type": "code",
   "execution_count": 415,
   "id": "6c282378",
   "metadata": {
    "hidden": true
   },
   "outputs": [
    {
     "data": {
      "text/plain": [
       "<matplotlib.image.AxesImage at 0x7f04085064f0>"
      ]
     },
     "execution_count": 415,
     "metadata": {},
     "output_type": "execute_result"
    },
    {
     "data": {
      "image/png": "[encoded data removed]",
      "text/plain": [
       "<Figure size 432x288 with 1 Axes>"
      ]
     },
     "metadata": {
      "needs_background": "light"
     },
     "output_type": "display_data"
    }
   ],
   "source": [
    "plt.imshow(drc)"
   ]
  },
  {
   "cell_type": "code",
   "execution_count": 54,
   "id": "afc9e838",
   "metadata": {
    "hidden": true
   },
   "outputs": [
    {
     "data": {
      "text/plain": [
       "<matplotlib.image.AxesImage at 0x7f0409e899a0>"
      ]
     },
     "execution_count": 54,
     "metadata": {},
     "output_type": "execute_result"
    },
    {
     "data": {
      "image/png": "[encoded data removed]",
      "text/plain": [
       "<Figure size 432x288 with 1 Axes>"
      ]
     },
     "metadata": {
      "needs_background": "light"
     },
     "output_type": "display_data"
    }
   ],
   "source": [
    "plt.imshow(drc)"
   ]
  },
  {
   "cell_type": "markdown",
   "id": "1b538acd",
   "metadata": {
    "heading_collapsed": true
   },
   "source": [
    "# Net"
   ]
  },
  {
   "cell_type": "code",
   "execution_count": 19,
   "id": "b14322de",
   "metadata": {
    "hidden": true
   },
   "outputs": [],
   "source": [
    "reload_modules()\n",
    "mpc_arctan = bise.BiSE(\n",
    "    in_channels=1, out_channels=1, kernel_size=(5, 5), activation_threshold_mode='arctan')\n",
    "mpc_sigmoid = bise.BiSE(\n",
    "    in_channels=1, out_channels=1, kernel_size=(5, 5), activation_threshold_mode='sigmoid')\n"
   ]
  },
  {
   "cell_type": "code",
   "execution_count": 22,
   "id": "e348d149",
   "metadata": {
    "hidden": true
   },
   "outputs": [
    {
     "data": {
      "text/plain": [
       "<matplotlib.legend.Legend at 0x7f5bb6423970>"
      ]
     },
     "execution_count": 22,
     "metadata": {},
     "output_type": "execute_result"
    },
    {
     "data": {
      "image/png": "[encoded data removed]",
      "text/plain": [
       "<Figure size 432x288 with 1 Axes>"
      ]
     },
     "metadata": {
      "needs_background": "light"
     },
     "output_type": "display_data"
    }
   ],
   "source": [
    "x = torch.tensor(np.linspace(-3, 3, 100))\n",
    "plt.plot(x.detach(), mpc_arctan.activation_threshold_fn(x).detach(), label='arctan')\n",
    "plt.plot(x.detach(), mpc_sigmoid.activation_threshold_fn(x).detach(), label='sigmoid')\n",
    "plt.legend()"
   ]
  },
  {
   "cell_type": "code",
   "execution_count": 22,
   "id": "5c6303a1",
   "metadata": {
    "hidden": true
   },
   "outputs": [],
   "source": [
    "wghts = 100 * (torch.tensor([\n",
    "    [1, 0, 0, 0, 0],\n",
    "    [0, 1, 0, 0, 0],\n",
    "    [0, 0, 1, 0, 0],\n",
    "    [0, 0, 0, 1, 0],\n",
    "    [0, 0, 0, 0, 1],\n",
    "]) - .5)\n",
    "se = torch.sigmoid(wghts) > .5\n",
    "\n",
    "mpc.activation_P = nn.Parameter(torch.FloatTensor([3]))\n",
    "# mpc.conv.bias = nn.Parameter(torch.FloatTensor([-1]))  # dilation\n",
    "mpc.conv.bias = nn.Parameter(torch.FloatTensor([-se.sum()]))  # erosion\n",
    "mpc.conv.weight = nn.Parameter(wghts.float().unsqueeze(0).unsqueeze(0))"
   ]
  },
  {
   "cell_type": "code",
   "execution_count": 23,
   "id": "88aac581",
   "metadata": {
    "hidden": true
   },
   "outputs": [
    {
     "name": "stdout",
     "output_type": "stream",
     "text": [
      "(array([-5., -4., -3., -2., -1.,  0.], dtype=float32), array([2085,   68,   59,   53,   50,  185]))\n"
     ]
    },
    {
     "data": {
      "text/plain": [
       "(array([3.0590220e-07, 3.0590223e-07, 6.1441742e-06, 1.2339458e-04,\n",
       "        2.4726230e-03, 4.7425874e-02, 5.0000000e-01], dtype=float32),\n",
       " array([2081,    4,   68,   59,   53,   50,  185]))"
      ]
     },
     "execution_count": 23,
     "metadata": {},
     "output_type": "execute_result"
    }
   ],
   "source": [
    "inpt = torch.tensor(x[np.newaxis, ...]).float().unsqueeze(0)\n",
    "output = mpc.conv._conv_forward(inpt, mpc._normalized_weight, mpc.bias).detach()\n",
    "print(np.unique(output, return_counts=True))\n",
    "output = torch.sigmoid(output * mpc.activation_P).detach()\n",
    "np.unique(output, return_counts=True)\n"
   ]
  },
  {
   "cell_type": "code",
   "execution_count": 13,
   "id": "aace8cc5",
   "metadata": {
    "hidden": true
   },
   "outputs": [
    {
     "name": "stdout",
     "output_type": "stream",
     "text": [
      "CPU times: user 34 ms, sys: 0 ns, total: 34 ms\n",
      "Wall time: 7.1 ms\n"
     ]
    },
    {
     "name": "stderr",
     "output_type": "stream",
     "text": [
      "/hdd/aouadt/these/projets/3d_segm/general/array_morphology.py:6: UserWarning: To copy construct from a tensor, it is recommended to use sourceTensor.clone().detach() or sourceTensor.clone().detach().requires_grad_(True), rather than torch.tensor(sourceTensor).\n",
      "  return torch.tensor(ar).unsqueeze(0).unsqueeze(0).float().to(device)\n"
     ]
    }
   ],
   "source": [
    "%%time\n",
    "reload_modules()\n",
    "otp = mpc(torch.tensor(x[np.newaxis, ...]).float().unsqueeze(0))\n",
    "# target = arm.array_dilation(x, se)\n",
    "target = arm.array_erosion(x, se)"
   ]
  },
  {
   "cell_type": "code",
   "execution_count": 192,
   "id": "dc251f20",
   "metadata": {
    "hidden": true
   },
   "outputs": [
    {
     "data": {
      "text/plain": [
       "(array([3.0590220e-07, 3.0590223e-07, 6.1441742e-06, 1.2339458e-04,\n",
       "        2.4726230e-03, 4.7425874e-02, 5.0000000e-01], dtype=float32),\n",
       " array([2008,    4,   80,   72,   66,   62,  208]))"
      ]
     },
     "execution_count": 192,
     "metadata": {},
     "output_type": "execute_result"
    }
   ],
   "source": [
    "np.unique(otp.detach(), return_counts=True)"
   ]
  },
  {
   "cell_type": "code",
   "execution_count": 187,
   "id": "3bbb152f",
   "metadata": {
    "hidden": true
   },
   "outputs": [
    {
     "data": {
      "text/plain": [
       "tensor([[[[0.9890, 0.0110, 0.0110, 0.0110, 0.0110],\n",
       "          [0.0110, 0.9890, 0.0110, 0.0110, 0.0110],\n",
       "          [0.0110, 0.0110, 0.9890, 0.0110, 0.0110],\n",
       "          [0.0110, 0.0110, 0.0110, 0.9890, 0.0110],\n",
       "          [0.0110, 0.0110, 0.0110, 0.0110, 0.9890]]]],\n",
       "       grad_fn=<SigmoidBackward>)"
      ]
     },
     "execution_count": 187,
     "metadata": {},
     "output_type": "execute_result"
    }
   ],
   "source": [
    "mpc._normalized_weight"
   ]
  },
  {
   "cell_type": "code",
   "execution_count": 188,
   "id": "957256c8",
   "metadata": {
    "hidden": true,
    "scrolled": true
   },
   "outputs": [
    {
     "data": {
      "image/png": "[encoded data removed]",
      "text/plain": [
       "<Figure size 1440x360 with 4 Axes>"
      ]
     },
     "metadata": {
      "needs_background": "light"
     },
     "output_type": "display_data"
    }
   ],
   "source": [
    "plot_horizontal([\n",
    "    x,\n",
    "    otp.detach()[0, 0],\n",
    "    target,\n",
    "    ((otp.detach()[0, 0] > .4) - target).abs()\n",
    "]);\n"
   ]
  },
  {
   "cell_type": "markdown",
   "id": "f84db1e8",
   "metadata": {},
   "source": [
    "# Training"
   ]
  },
  {
   "cell_type": "markdown",
   "id": "52c27107",
   "metadata": {
    "heading_collapsed": true
   },
   "source": [
    "## Dilation / Erosion"
   ]
  },
  {
   "cell_type": "code",
   "execution_count": 118,
   "id": "f818ea7a",
   "metadata": {
    "hidden": true
   },
   "outputs": [
    {
     "name": "stdout",
     "output_type": "stream",
     "text": [
      "Opening 49\n"
     ]
    },
    {
     "data": {
      "image/png": "[encoded data removed]",
      "text/plain": [
       "<Figure size 432x288 with 1 Axes>"
      ]
     },
     "metadata": {
      "needs_background": "light"
     },
     "output_type": "display_data"
    }
   ],
   "source": [
    "reload_modules()\n",
    "\n",
    "# morp_operation = 'Dilation'\n",
    "# morp_operation = 'Erosion'\n",
    "morp_operation = 'Opening'\n",
    "\n",
    "# selem = np.zeros((5, 5))\n",
    "# selem[np.arange(5), 5 - np.arange(1, 6)] = 1\n",
    "# selem[np.arange(5), np.arange(5)] = 1\n",
    "# selem[:, 2] = 1\n",
    "# selem[2, :] = 1\n",
    "selem = morp.disk(4)\n",
    "plt.imshow(selem)\n",
    "print(morp_operation, selem.sum())\n",
    "\n",
    "dataloader = mrda.get_loader(\n",
    "    batch_size=32, \n",
    "    n_inputs=500_000,\n",
    "#     random_gen_fn=gfo.random_multi_rect,\n",
    "#     random_gen_args={\n",
    "#         'size': (50, 50), \n",
    "#         'n_rectangles': 8,\n",
    "#         'max_shape': (10, 10), \n",
    "#     },\n",
    "    random_gen_fn=gfo3.get_random_rotated_diskorect,\n",
    "    random_gen_args={'size': (50, 50), 'n_shapes': 15, 'max_shape': (15, 15), 'p_invert': .5},\n",
    "    device=device, \n",
    "    selem=selem,\n",
    "    morp_operation=morp_operation,\n",
    ")"
   ]
  },
  {
   "cell_type": "code",
   "execution_count": 139,
   "id": "6c6a84b4",
   "metadata": {
    "hidden": true
   },
   "outputs": [
    {
     "name": "stdout",
     "output_type": "stream",
     "text": [
      "0\n"
     ]
    },
    {
     "data": {
      "image/png": "[encoded data removed]",
      "text/plain": [
       "<Figure size 432x288 with 3 Axes>"
      ]
     },
     "metadata": {
      "needs_background": "light"
     },
     "output_type": "display_data"
    }
   ],
   "source": [
    "img, target = next(iter(dataloader))\n",
    "img = img[0, 0].detach().cpu()\n",
    "\n",
    "fig = plt.figure()\n",
    "ax = fig.add_subplot(131)\n",
    "ax.imshow(img)\n",
    "\n",
    "selems = []\n",
    "\n",
    "selem = np.zeros((5, 5))\n",
    "selem[2, :] = 1\n",
    "selems.append(selem)\n",
    "\n",
    "selem = np.zeros((5, 5))\n",
    "selem[:, 2] = 1\n",
    "selems.append(selem)\n",
    "\n",
    "\n",
    "morp_fn = arm.sequentiel_morp_operations(\n",
    "    img,\n",
    "    selems=selems,\n",
    "    operations=['dilation', 'dilation']\n",
    ")\n",
    "\n",
    "oimg = morp_fn(img)\n",
    "ax = fig.add_subplot(132)\n",
    "ax.imshow(oimg)\n",
    "\n",
    "oimg2 = arm.array_dilation(img, selem=np.ones((5, 5)))\n",
    "ax = fig.add_subplot(133)\n",
    "ax.imshow(oimg2)\n",
    "\n",
    "print((oimg - oimg2).sum())"
   ]
  },
  {
   "cell_type": "code",
   "execution_count": 130,
   "id": "a46af7e3",
   "metadata": {
    "hidden": true
   },
   "outputs": [
    {
     "data": {
      "text/plain": [
       "torch.Size([50, 50])"
      ]
     },
     "execution_count": 130,
     "metadata": {},
     "output_type": "execute_result"
    }
   ],
   "source": [
    "img.shape"
   ]
  },
  {
   "cell_type": "code",
   "execution_count": 11,
   "id": "6c9d08e9",
   "metadata": {
    "hidden": true,
    "scrolled": true
   },
   "outputs": [
    {
     "name": "stderr",
     "output_type": "stream",
     "text": [
      "GPU available: True, used: True\n",
      "TPU available: False, using: 0 TPU cores\n",
      "LOCAL_RANK: 0 - CUDA_VISIBLE_DEVICES: [0]\n",
      "\n",
      "  | Name  | Type              | Params\n",
      "--------------------------------------------\n",
      "0 | model | OpeningNet        | 55    \n",
      "1 | loss  | BCEWithLogitsLoss | 0     \n",
      "--------------------------------------------\n",
      "55        Trainable params\n",
      "0         Non-trainable params\n",
      "55        Total params\n",
      "0.000     Total estimated model params size (MB)\n"
     ]
    },
    {
     "name": "stdout",
     "output_type": "stream",
     "text": [
      "deep_morpho/results/Opening/version_13\n"
     ]
    },
    {
     "data": {
      "application/vnd.jupyter.widget-view+json": {
       "model_id": "",
       "version_major": 2,
       "version_minor": 0
      },
      "text/plain": [
       "Validation sanity check: 0it [00:00, ?it/s]"
      ]
     },
     "metadata": {},
     "output_type": "display_data"
    },
    {
     "data": {
      "application/vnd.jupyter.widget-view+json": {
       "model_id": "9d8f88526c9f4029902746e9047e38d8",
       "version_major": 2,
       "version_minor": 0
      },
      "text/plain": [
       "Training: 0it [00:00, ?it/s]"
      ]
     },
     "metadata": {},
     "output_type": "display_data"
    }
   ],
   "source": [
    "reload_modules()\n",
    "loss = nn.BCEWithLogitsLoss()\n",
    "optimizer = torch.optim.Adam\n",
    "\n",
    "if morp_operation.lower() != \"opening\":\n",
    "    observables = [\n",
    "        obs.PlotParametersDilation(100),\n",
    "        obs.PlotPreds(100),\n",
    "        obs.WeightsHistogramDilation(1000)\n",
    "    ]\n",
    "    \n",
    "    model = lbise.LightningBiSE(\n",
    "        model_args={\n",
    "            \"in_channels\": 1, \"out_channels\": 1, \"kernel_size\": (5, 5)\n",
    "        },\n",
    "        learning_rate=1e-2,\n",
    "        loss=loss,\n",
    "        optimizer=optimizer,\n",
    "        output_dir=\"deep_morpho/results\",\n",
    "        observables=observables\n",
    "    )\n",
    "else:\n",
    "    observables = [\n",
    "        obs.PlotParametersMultipleDilations(1),\n",
    "        obs.PlotPreds(1),\n",
    "        obs.WeightsHistogramMultipleDilations(1)\n",
    "    ]\n",
    "    \n",
    "    model = lon.LightningOpeningNet(\n",
    "        model_args={\n",
    "            \"share_weights\": True, \"in_channels\": 1, \"out_channels\": 1, \"kernel_size\": (5, 5)\n",
    "        },\n",
    "        learning_rate=5e-2,\n",
    "        loss=loss,\n",
    "        optimizer=optimizer,\n",
    "        output_dir=\"deep_morpho/results\",\n",
    "        observables=observables\n",
    "    )\n",
    "\n",
    "\n",
    "model.to(device)\n",
    "\n",
    "logger = TensorBoardLogger(\"deep_morpho/results\", name=morp_operation)\n",
    "print(logger.log_dir)\n",
    "\n",
    "logger.experiment.add_graph(model, torch.ones(1, 1, 50, 50).to(device))\n",
    "logger.experiment.add_image(\"target_SE\", selem[np.newaxis, :].astype(float))\n",
    "\n",
    "trainer = Trainer(\n",
    "    max_epochs=1,\n",
    "    gpus=1 if torch.cuda.is_available() else 0,\n",
    "    logger=logger,\n",
    "    progress_bar_refresh_rate=10,\n",
    "    callbacks=observables.copy()\n",
    ")\n",
    "\n",
    "trainer.fit(model, dataloader)\n"
   ]
  },
  {
   "cell_type": "code",
   "execution_count": 68,
   "id": "7d8676ef",
   "metadata": {
    "hidden": true
   },
   "outputs": [],
   "source": [
    "img, target = dataloader.dataset[0]\n",
    "otp = model(img.unsqueeze(0).cpu())\n"
   ]
  },
  {
   "cell_type": "markdown",
   "id": "1e5d8814",
   "metadata": {
    "hidden": true
   },
   "source": [
    "- Unet Version 15: training on $3 \\cdot 10^8$ images with softmax before weight\n",
    "- Dilation Version 0: training on $3 \\cdot 10^8$ images without softmax, max min norm"
   ]
  },
  {
   "cell_type": "code",
   "execution_count": 103,
   "id": "80b26bdd",
   "metadata": {
    "hidden": true
   },
   "outputs": [],
   "source": [
    "model = model.load_from_checkpoint(join(\"deep_morpho/results/Unet/version_15/checkpoints/epoch=0-step=93749.ckpt\"))"
   ]
  },
  {
   "cell_type": "code",
   "execution_count": 113,
   "id": "bc901e19",
   "metadata": {
    "hidden": true,
    "scrolled": true
   },
   "outputs": [
    {
     "name": "stderr",
     "output_type": "stream",
     "text": [
      "<ipython-input-3-2732c24916c7>:3: RuntimeWarning: More than 20 figures have been opened. Figures created through the pyplot interface (`matplotlib.pyplot.figure`) are retained until explicitly closed and may consume too much memory. (To control this warning, see the rcParam `figure.max_open_warning`).\n",
      "  fig = plt.figure(figsize=(5*n_figs, 5))\n"
     ]
    },
    {
     "data": {
      "image/png": "[encoded data removed]",
      "text/plain": [
       "<Figure size 1440x360 with 4 Axes>"
      ]
     },
     "metadata": {
      "needs_background": "light"
     },
     "output_type": "display_data"
    },
    {
     "data": {
      "image/png": "[encoded data removed]",
      "text/plain": [
       "<Figure size 1440x360 with 4 Axes>"
      ]
     },
     "metadata": {
      "needs_background": "light"
     },
     "output_type": "display_data"
    },
    {
     "data": {
      "image/png": "[encoded data removed]",
      "text/plain": [
       "<Figure size 1440x360 with 4 Axes>"
      ]
     },
     "metadata": {
      "needs_background": "light"
     },
     "output_type": "display_data"
    },
    {
     "data": {
      "image/png": "[encoded data removed]",
      "text/plain": [
       "<Figure size 1440x360 with 4 Axes>"
      ]
     },
     "metadata": {
      "needs_background": "light"
     },
     "output_type": "display_data"
    },
    {
     "data": {
      "image/png": "[encoded data removed]",
      "text/plain": [
       "<Figure size 1440x360 with 4 Axes>"
      ]
     },
     "metadata": {
      "needs_background": "light"
     },
     "output_type": "display_data"
    },
    {
     "data": {
      "image/png": "[encoded data removed]",
      "text/plain": [
       "<Figure size 1440x360 with 4 Axes>"
      ]
     },
     "metadata": {
      "needs_background": "light"
     },
     "output_type": "display_data"
    },
    {
     "data": {
      "image/png": "[encoded data removed]",
      "text/plain": [
       "<Figure size 1440x360 with 4 Axes>"
      ]
     },
     "metadata": {
      "needs_background": "light"
     },
     "output_type": "display_data"
    },
    {
     "data": {
      "image/png": "[encoded data removed]",
      "text/plain": [
       "<Figure size 1440x360 with 4 Axes>"
      ]
     },
     "metadata": {
      "needs_background": "light"
     },
     "output_type": "display_data"
    },
    {
     "data": {
      "image/png": "[encoded data removed]",
      "text/plain": [
       "<Figure size 1440x360 with 4 Axes>"
      ]
     },
     "metadata": {
      "needs_background": "light"
     },
     "output_type": "display_data"
    },
    {
     "data": {
      "image/png": "[encoded data removed]",
      "text/plain": [
       "<Figure size 1440x360 with 4 Axes>"
      ]
     },
     "metadata": {
      "needs_background": "light"
     },
     "output_type": "display_data"
    },
    {
     "data": {
      "image/png": "[encoded data removed]",
      "text/plain": [
       "<Figure size 1440x360 with 4 Axes>"
      ]
     },
     "metadata": {
      "needs_background": "light"
     },
     "output_type": "display_data"
    },
    {
     "data": {
      "image/png": "[encoded data removed]",
      "text/plain": [
       "<Figure size 1440x360 with 4 Axes>"
      ]
     },
     "metadata": {
      "needs_background": "light"
     },
     "output_type": "display_data"
    },
    {
     "data": {
      "image/png": "[encoded data removed]",
      "text/plain": [
       "<Figure size 1440x360 with 4 Axes>"
      ]
     },
     "metadata": {
      "needs_background": "light"
     },
     "output_type": "display_data"
    },
    {
     "data": {
      "image/png": "[encoded data removed]",
      "text/plain": [
       "<Figure size 1440x360 with 4 Axes>"
      ]
     },
     "metadata": {
      "needs_background": "light"
     },
     "output_type": "display_data"
    },
    {
     "data": {
      "image/png": "[encoded data removed]",
      "text/plain": [
       "<Figure size 1440x360 with 4 Axes>"
      ]
     },
     "metadata": {
      "needs_background": "light"
     },
     "output_type": "display_data"
    },
    {
     "data": {
      "image/png": "[encoded data removed]",
      "text/plain": [
       "<Figure size 1440x360 with 4 Axes>"
      ]
     },
     "metadata": {
      "needs_background": "light"
     },
     "output_type": "display_data"
    },
    {
     "data": {
      "image/png": "[encoded data removed]",
      "text/plain": [
       "<Figure size 1440x360 with 4 Axes>"
      ]
     },
     "metadata": {
      "needs_background": "light"
     },
     "output_type": "display_data"
    },
    {
     "data": {
      "image/png": "[encoded data removed]",
      "text/plain": [
       "<Figure size 1440x360 with 4 Axes>"
      ]
     },
     "metadata": {
      "needs_background": "light"
     },
     "output_type": "display_data"
    },
    {
     "data": {
      "image/png": "[encoded data removed]",
      "text/plain": [
       "<Figure size 1440x360 with 4 Axes>"
      ]
     },
     "metadata": {
      "needs_background": "light"
     },
     "output_type": "display_data"
    },
    {
     "data": {
      "image/png": "[encoded data removed]",
      "text/plain": [
       "<Figure size 1440x360 with 4 Axes>"
      ]
     },
     "metadata": {
      "needs_background": "light"
     },
     "output_type": "display_data"
    },
    {
     "data": {
      "image/png": "[encoded data removed]",
      "text/plain": [
       "<Figure size 1440x360 with 4 Axes>"
      ]
     },
     "metadata": {
      "needs_background": "light"
     },
     "output_type": "display_data"
    },
    {
     "data": {
      "image/png": "[encoded data removed]",
      "text/plain": [
       "<Figure size 1440x360 with 4 Axes>"
      ]
     },
     "metadata": {
      "needs_background": "light"
     },
     "output_type": "display_data"
    },
    {
     "data": {
      "image/png": "[encoded data removed]",
      "text/plain": [
       "<Figure size 1440x360 with 4 Axes>"
      ]
     },
     "metadata": {
      "needs_background": "light"
     },
     "output_type": "display_data"
    },
    {
     "data": {
      "image/png": "[encoded data removed]",
      "text/plain": [
       "<Figure size 1440x360 with 4 Axes>"
      ]
     },
     "metadata": {
      "needs_background": "light"
     },
     "output_type": "display_data"
    },
    {
     "data": {
      "image/png": "[encoded data removed]",
      "text/plain": [
       "<Figure size 1440x360 with 4 Axes>"
      ]
     },
     "metadata": {
      "needs_background": "light"
     },
     "output_type": "display_data"
    },
    {
     "data": {
      "image/png": "[encoded data removed]",
      "text/plain": [
       "<Figure size 1440x360 with 4 Axes>"
      ]
     },
     "metadata": {
      "needs_background": "light"
     },
     "output_type": "display_data"
    },
    {
     "data": {
      "image/png": "[encoded data removed]",
      "text/plain": [
       "<Figure size 1440x360 with 4 Axes>"
      ]
     },
     "metadata": {
      "needs_background": "light"
     },
     "output_type": "display_data"
    },
    {
     "data": {
      "image/png": "[encoded data removed]",
      "text/plain": [
       "<Figure size 1440x360 with 4 Axes>"
      ]
     },
     "metadata": {
      "needs_background": "light"
     },
     "output_type": "display_data"
    },
    {
     "data": {
      "image/png": "[encoded data removed]",
      "text/plain": [
       "<Figure size 1440x360 with 4 Axes>"
      ]
     },
     "metadata": {
      "needs_background": "light"
     },
     "output_type": "display_data"
    },
    {
     "data": {
      "image/png": "[encoded data removed]",
      "text/plain": [
       "<Figure size 1440x360 with 4 Axes>"
      ]
     },
     "metadata": {
      "needs_background": "light"
     },
     "output_type": "display_data"
    },
    {
     "data": {
      "image/png": "[encoded data removed]",
      "text/plain": [
       "<Figure size 1440x360 with 4 Axes>"
      ]
     },
     "metadata": {
      "needs_background": "light"
     },
     "output_type": "display_data"
    },
    {
     "data": {
      "image/png": "[encoded data removed]",
      "text/plain": [
       "<Figure size 1440x360 with 4 Axes>"
      ]
     },
     "metadata": {
      "needs_background": "light"
     },
     "output_type": "display_data"
    }
   ],
   "source": [
    "model.to(device)\n",
    "inputs, targets = next(iter(dataloader))\n",
    "outputs = model(inputs)\n",
    "for idx in range(len(inputs)):\n",
    "    plot_horizontal([tensor[idx].squeeze().cpu().detach() for tensor in [\n",
    "        inputs, targets, outputs > 0.05, outputs]])"
   ]
  },
  {
   "cell_type": "code",
   "execution_count": 110,
   "id": "c856d583",
   "metadata": {
    "hidden": true
   },
   "outputs": [
    {
     "name": "stdout",
     "output_type": "stream",
     "text": [
      "Parameter containing:\n",
      "tensor([[[[-0.1435, -0.1434, -0.1436, -0.1433,  0.9307],\n",
      "          [-0.1434, -0.1434, -0.1434,  0.0202, -0.1433],\n",
      "          [-0.1435, -0.1433,  0.0130, -0.1434, -0.1434],\n",
      "          [-0.1433,  0.0191, -0.1431, -0.1431, -0.1435],\n",
      "          [ 0.9319, -0.1432, -0.1434, -0.1435, -0.1435]]]], device='cuda:0',\n",
      "       requires_grad=True)\n",
      "tensor([[[[1.4809e-05, 5.0633e-05, 0.0000e+00, 8.8175e-05, 4.0749e-01],\n",
      "          [7.8492e-05, 6.5323e-05, 7.1099e-05, 6.2133e-02, 9.0181e-05],\n",
      "          [3.1579e-05, 8.9384e-05, 5.9403e-02, 5.0689e-05, 6.7584e-05],\n",
      "          [8.9418e-05, 6.1683e-02, 1.8620e-04, 1.8275e-04, 8.5349e-06],\n",
      "          [4.0793e-01, 1.2621e-04, 4.5783e-05, 1.2316e-05, 1.6386e-05]]]],\n",
      "       device='cuda:0', grad_fn=<DivBackward0>)\n",
      "Parameter containing:\n",
      "tensor([1.], device='cuda:0', requires_grad=True)\n"
     ]
    }
   ],
   "source": [
    "print(model.model.conv.weight)\n",
    "print(model.model._normalized_weight)\n",
    "print(model.model.P_)"
   ]
  },
  {
   "cell_type": "code",
   "execution_count": 109,
   "id": "a27c48cd",
   "metadata": {
    "hidden": true
   },
   "outputs": [
    {
     "data": {
      "text/plain": [
       "<matplotlib.image.AxesImage at 0x7fe89c385070>"
      ]
     },
     "execution_count": 109,
     "metadata": {},
     "output_type": "execute_result"
    },
    {
     "data": {
      "image/png": "[encoded data removed]",
      "text/plain": [
       "<Figure size 432x288 with 1 Axes>"
      ]
     },
     "metadata": {
      "needs_background": "light"
     },
     "output_type": "display_data"
    }
   ],
   "source": [
    "# plt.imshow(torch.sigmoid(model.model.conv.weight).cpu().detach()[0, 0], cmap='gray',\n",
    "#           vmin=0, vmax=1)\n",
    "plt.imshow(model.model._normalized_weight.cpu().detach()[0, 0], cmap='gray',\n",
    "          vmin=0, vmax=1)"
   ]
  },
  {
   "cell_type": "markdown",
   "id": "5e7b9711",
   "metadata": {
    "heading_collapsed": true
   },
   "source": [
    "## Opening"
   ]
  },
  {
   "cell_type": "code",
   "execution_count": 16,
   "id": "6d344159",
   "metadata": {
    "hidden": true
   },
   "outputs": [
    {
     "name": "stdout",
     "output_type": "stream",
     "text": [
      "9.0\n"
     ]
    },
    {
     "data": {
      "image/png": "[encoded data removed]",
      "text/plain": [
       "<Figure size 432x288 with 1 Axes>"
      ]
     },
     "metadata": {
      "needs_background": "light"
     },
     "output_type": "display_data"
    }
   ],
   "source": [
    "reload_modules()\n",
    "selem = np.zeros((5, 5))\n",
    "selem[np.arange(5), 5 - np.arange(1, 6)] = 1\n",
    "selem[np.arange(5), np.arange(5)] = 1\n",
    "# selem = morp.disk(2)\n",
    "plt.imshow(selem)\n",
    "print(selem.sum())\n",
    "\n",
    "dataloader = mrda.get_loader(\n",
    "    batch_size=32, \n",
    "    n_inputs=1_000_000, \n",
    "    size=(50, 50), \n",
    "    n_rectangles=8,\n",
    "    device=device, \n",
    "    max_shape=(10, 10), \n",
    "    selem=selem,\n",
    "    morp_operation=\"opening\",\n",
    ")"
   ]
  },
  {
   "cell_type": "code",
   "execution_count": 17,
   "id": "348ab3ac",
   "metadata": {
    "hidden": true
   },
   "outputs": [
    {
     "name": "stderr",
     "output_type": "stream",
     "text": [
      "GPU available: True, used: True\n",
      "TPU available: False, using: 0 TPU cores\n",
      "LOCAL_RANK: 0 - CUDA_VISIBLE_DEVICES: [0]\n",
      "\n",
      "  | Name  | Type              | Params\n",
      "--------------------------------------------\n",
      "0 | model | OpeningNet        | 56    \n",
      "1 | loss  | BCEWithLogitsLoss | 0     \n",
      "--------------------------------------------\n",
      "56        Trainable params\n",
      "0         Non-trainable params\n",
      "56        Total params\n",
      "0.000     Total estimated model params size (MB)\n"
     ]
    },
    {
     "name": "stdout",
     "output_type": "stream",
     "text": [
      "deep_morpho/results/Opening/version_0\n"
     ]
    },
    {
     "data": {
      "application/vnd.jupyter.widget-view+json": {
       "model_id": "",
       "version_major": 2,
       "version_minor": 0
      },
      "text/plain": [
       "Validation sanity check: 0it [00:00, ?it/s]"
      ]
     },
     "metadata": {},
     "output_type": "display_data"
    },
    {
     "data": {
      "application/vnd.jupyter.widget-view+json": {
       "model_id": "4e33a921b58a4620a0875449ac3551d1",
       "version_major": 2,
       "version_minor": 0
      },
      "text/plain": [
       "Training: 0it [00:00, ?it/s]"
      ]
     },
     "metadata": {},
     "output_type": "display_data"
    },
    {
     "name": "stderr",
     "output_type": "stream",
     "text": [
      "/hdd/aouadt/these/projets/3d_segm/general/array_morphology.py:6: UserWarning: To copy construct from a tensor, it is recommended to use sourceTensor.clone().detach() or sourceTensor.clone().detach().requires_grad_(True), rather than torch.tensor(sourceTensor).\n",
      "  return torch.tensor(ar).unsqueeze(0).unsqueeze(0).float().to(device)\n"
     ]
    }
   ],
   "source": [
    "reload_modules()\n",
    "loss = nn.BCEWithLogitsLoss()\n",
    "optimizer = torch.optim.Adam\n",
    "\n",
    "observables = [\n",
    "    obs.PlotParametersMultipleDilations(1000),\n",
    "    obs.PlotPreds(),\n",
    "    obs.WeightsHistogramMultipleDilations(1000)\n",
    "]\n",
    "\n",
    "model = lon.LightningOpeningNet(\n",
    "    model_args={\n",
    "        \"share_weights\": True, \"in_channels\": 1, \"out_channels\": 1, \"kernel_size\": (5, 5)\n",
    "    },\n",
    "    learning_rate=1e-2,\n",
    "    loss=loss,\n",
    "    optimizer=optimizer,\n",
    "    output_dir=\"deep_morpho/results\",\n",
    "    observables=observables\n",
    ")\n",
    "model.to(device)\n",
    "\n",
    "logger = TensorBoardLogger(\"deep_morpho/results\", name='Opening')\n",
    "print(logger.log_dir)\n",
    "\n",
    "logger.experiment.add_graph(model, torch.ones(1, 1, 50, 50).to(device))\n",
    "logger.experiment.add_image(\"target_SE\", selem[np.newaxis, :])\n",
    "\n",
    "trainer = Trainer(\n",
    "    max_epochs=1,\n",
    "    gpus=1 if torch.cuda.is_available() else 0,\n",
    "    logger=logger,\n",
    "    progress_bar_refresh_rate=10,\n",
    "    callbacks=observables.copy()\n",
    ")\n",
    "\n",
    "trainer.fit(model, dataloader)\n"
   ]
  },
  {
   "cell_type": "markdown",
   "id": "bcb26e9e",
   "metadata": {},
   "source": [
    "# BiMoNN"
   ]
  },
  {
   "cell_type": "code",
   "execution_count": 14,
   "id": "ddc9393c",
   "metadata": {},
   "outputs": [
    {
     "name": "stdout",
     "output_type": "stream",
     "text": [
      "Dilation 29\n"
     ]
    },
    {
     "data": {
      "image/png": "[encoded data removed]",
      "text/plain": [
       "<Figure size 432x288 with 1 Axes>"
      ]
     },
     "metadata": {
      "needs_background": "light"
     },
     "output_type": "display_data"
    }
   ],
   "source": [
    "reload_modules()\n",
    "\n",
    "morp_operation = 'Dilation'\n",
    "# morp_operation = 'Erosion'\n",
    "# morp_operation = 'Opening'\n",
    "\n",
    "# selem = np.zeros((5, 5))\n",
    "# selem[np.arange(5), 5 - np.arange(1, 6)] = 1\n",
    "# selem[np.arange(5), np.arange(5)] = 1\n",
    "# selem[:, 2] = 1\n",
    "# selem[2, :] = 1\n",
    "selem = morp.disk(3)\n",
    "plt.imshow(selem)\n",
    "print(morp_operation, selem.sum())\n",
    "\n",
    "dataloader = mrda.get_loader(\n",
    "    batch_size=32, \n",
    "    n_inputs=500_000,\n",
    "#     random_gen_fn=gfo.random_multi_rect,\n",
    "#     random_gen_args={\n",
    "#         'size': (50, 50), \n",
    "#         'n_rectangles': 8,\n",
    "#         'max_shape': (10, 10), \n",
    "#     },\n",
    "    random_gen_fn=gfo3.get_random_rotated_diskorect,\n",
    "    random_gen_args={'size': (50, 50), 'n_shapes': 15, 'max_shape': (15, 15), 'p_invert': .5,\n",
    "                    'border': (4, 4)},\n",
    "    device=device, \n",
    "    selem=selem,\n",
    "    morp_operation=morp_operation,\n",
    ")"
   ]
  },
  {
   "cell_type": "code",
   "execution_count": 15,
   "id": "8c9c2165",
   "metadata": {},
   "outputs": [
    {
     "data": {
      "text/plain": [
       "<matplotlib.image.AxesImage at 0x7f0845722d90>"
      ]
     },
     "execution_count": 15,
     "metadata": {},
     "output_type": "execute_result"
    },
    {
     "data": {
      "image/png": "[encoded data removed]",
      "text/plain": [
       "<Figure size 432x288 with 1 Axes>"
      ]
     },
     "metadata": {
      "needs_background": "light"
     },
     "output_type": "display_data"
    }
   ],
   "source": [
    "img, target = next(iter(dataloader))\n",
    "plt.imshow(img[0, 0].cpu().detach())"
   ]
  },
  {
   "cell_type": "code",
   "execution_count": 25,
   "id": "70f7a646",
   "metadata": {},
   "outputs": [
    {
     "data": {
      "text/plain": [
       "LogicalNotBiSE(\n",
       "  (conv): Conv2d(1, 1, kernel_size=(7, 7), stride=(1, 1), padding=(3, 3), bias=False)\n",
       "  (weight_threshold_layer): SigmoidLayer()\n",
       "  (activation_threshold_layer): SigmoidLayer()\n",
       "  (logical_not_layer): LogicalNotLayer()\n",
       ")"
      ]
     },
     "execution_count": 25,
     "metadata": {},
     "output_type": "execute_result"
    }
   ],
   "source": [
    "reload_modules()\n",
    "\n",
    "net = bimonn.BiMoNN(\n",
    "    kernel_size=[5, 5, 5, 7],\n",
    "    logical_not=False,\n",
    "    weight_P=1,\n",
    "    weight_threshold_mode=\"sigmoid\",\n",
    "    activation_P=100,\n",
    "    activation_threshold_mode=\"sigmoid\",\n",
    "    init_bias_value=-0.5,\n",
    "    out_channels=1\n",
    ")\n",
    "net.to(device)\n",
    "\n",
    "net_dil = models.BiSE(kernel_size=(7, 7), activation_P=100, init_bias_value=-.5)\n",
    "net_dil.to(device)"
   ]
  },
  {
   "cell_type": "code",
   "execution_count": 26,
   "id": "3e46a051",
   "metadata": {},
   "outputs": [
    {
     "data": {
      "text/plain": [
       "torch.Size([32, 1, 52, 52])"
      ]
     },
     "execution_count": 26,
     "metadata": {},
     "output_type": "execute_result"
    }
   ],
   "source": [
    "otp2.shape"
   ]
  },
  {
   "cell_type": "code",
   "execution_count": 27,
   "id": "da90c321",
   "metadata": {},
   "outputs": [
    {
     "name": "stdout",
     "output_type": "stream",
     "text": [
      "torch.Size([32, 1, 50, 50]) torch.Size([32, 1, 50, 50])\n"
     ]
    },
    {
     "data": {
      "text/plain": [
       "tensor(0., device='cuda:0', grad_fn=<SumBackward0>)"
      ]
     },
     "execution_count": 27,
     "metadata": {},
     "output_type": "execute_result"
    }
   ],
   "source": [
    "otp1 = net(img)\n",
    "otp2 = net_dil(img)\n",
    "\n",
    "print(otp1.shape, otp2.shape)\n",
    "\n",
    "(otp1 - otp2).abs().sum()"
   ]
  },
  {
   "cell_type": "code",
   "execution_count": 28,
   "id": "66468187",
   "metadata": {},
   "outputs": [
    {
     "data": {
      "text/plain": [
       "<matplotlib.image.AxesImage at 0x7f22812c4160>"
      ]
     },
     "execution_count": 28,
     "metadata": {},
     "output_type": "execute_result"
    },
    {
     "data": {
      "image/png": "[encoded data removed]",
      "text/plain": [
       "<Figure size 1080x360 with 3 Axes>"
      ]
     },
     "metadata": {
      "needs_background": "light"
     },
     "output_type": "display_data"
    }
   ],
   "source": [
    "fig = plt.figure(figsize=(15, 5))\n",
    "\n",
    "ax = fig.add_subplot(131)\n",
    "ax.imshow(img[0, 0].cpu().detach())\n",
    "\n",
    "ax = fig.add_subplot(132)\n",
    "ax.imshow(otp1[0, 0].cpu().detach())\n",
    "\n",
    "ax = fig.add_subplot(133)\n",
    "ax.imshow(otp2[0, 0].cpu().detach())"
   ]
  },
  {
   "cell_type": "code",
   "execution_count": 43,
   "id": "bda69f6b",
   "metadata": {},
   "outputs": [
    {
     "data": {
      "text/plain": [
       "Parameter containing:\n",
       "tensor([[[[0., 0., 0., 0., 0., 0., 0.],\n",
       "          [0., 0., 0., 0., 0., 0., 0.],\n",
       "          [0., 0., 0., 0., 0., 0., 0.],\n",
       "          [0., 0., 0., 1., 0., 0., 0.],\n",
       "          [0., 0., 0., 0., 0., 0., 0.],\n",
       "          [0., 0., 0., 0., 0., 0., 0.],\n",
       "          [0., 0., 0., 0., 0., 0., 0.]]]], device='cuda:0', requires_grad=True)"
      ]
     },
     "execution_count": 43,
     "metadata": {},
     "output_type": "execute_result"
    }
   ],
   "source": [
    "net.bises[0].weights"
   ]
  },
  {
   "cell_type": "code",
   "execution_count": 44,
   "id": "82f0122c",
   "metadata": {},
   "outputs": [
    {
     "data": {
      "text/plain": [
       "Parameter containing:\n",
       "tensor([[[[0., 0., 0., 0., 0., 0., 0.],\n",
       "          [0., 0., 0., 0., 0., 0., 0.],\n",
       "          [0., 0., 0., 0., 0., 0., 0.],\n",
       "          [0., 0., 0., 1., 0., 0., 0.],\n",
       "          [0., 0., 0., 0., 0., 0., 0.],\n",
       "          [0., 0., 0., 0., 0., 0., 0.],\n",
       "          [0., 0., 0., 0., 0., 0., 0.]]]], device='cuda:0', requires_grad=True)"
      ]
     },
     "execution_count": 44,
     "metadata": {},
     "output_type": "execute_result"
    }
   ],
   "source": [
    "net_dil.weights"
   ]
  },
  {
   "cell_type": "code",
   "execution_count": 40,
   "id": "4223391b",
   "metadata": {},
   "outputs": [
    {
     "data": {
      "text/plain": [
       "torch.Size([1, 1, 7, 7])"
      ]
     },
     "execution_count": 40,
     "metadata": {},
     "output_type": "execute_result"
    }
   ],
   "source": [
    "net_dil.conv.weight.shape"
   ]
  },
  {
   "cell_type": "markdown",
   "id": "6d498264",
   "metadata": {},
   "source": [
    "# LogicalNotBise"
   ]
  },
  {
   "cell_type": "code",
   "execution_count": 30,
   "id": "7ca66a64",
   "metadata": {},
   "outputs": [
    {
     "name": "stdout",
     "output_type": "stream",
     "text": [
      "Dilation 13\n"
     ]
    },
    {
     "data": {
      "image/png": "[encoded data removed]",
      "text/plain": [
       "<Figure size 432x288 with 1 Axes>"
      ]
     },
     "metadata": {
      "needs_background": "light"
     },
     "output_type": "display_data"
    }
   ],
   "source": [
    "reload_modules()\n",
    "\n",
    "morp_operation = 'Dilation'\n",
    "\n",
    "selem = morp.disk(2)\n",
    "plt.imshow(selem)\n",
    "print(morp_operation, selem.sum())\n",
    "\n",
    "dataloader = mrda.get_loader(\n",
    "    batch_size=32, \n",
    "    n_inputs=500_000,\n",
    "    random_gen_fn=gfo3.get_random_rotated_diskorect,\n",
    "    random_gen_args={'size': (50, 50), 'n_shapes': 15, 'max_shape': (15, 15), 'p_invert': .5},\n",
    "    device=device, \n",
    "    selem=selem,\n",
    "    morp_operation=morp_operation,\n",
    ")"
   ]
  },
  {
   "cell_type": "code",
   "execution_count": 78,
   "id": "d719544f",
   "metadata": {},
   "outputs": [
    {
     "data": {
      "text/plain": [
       "BiMoNN(\n",
       "  (layer1): LogicalNotBiSE(\n",
       "    (conv): Conv2d(1, 1, kernel_size=(5, 5), stride=(1, 1), padding=(2, 2), bias=False)\n",
       "    (weight_threshold_layer): SigmoidLayer()\n",
       "    (activation_threshold_layer): SigmoidLayer()\n",
       "    (logical_not_layer): LogicalNotLayer()\n",
       "  )\n",
       "  (layer2): LogicalNotBiSE(\n",
       "    (conv): Conv2d(1, 1, kernel_size=(5, 5), stride=(1, 1), padding=(2, 2), bias=False)\n",
       "    (weight_threshold_layer): SigmoidLayer()\n",
       "    (activation_threshold_layer): SigmoidLayer()\n",
       "    (logical_not_layer): LogicalNotLayer()\n",
       "  )\n",
       ")"
      ]
     },
     "execution_count": 78,
     "metadata": {},
     "output_type": "execute_result"
    },
    {
     "data": {
      "image/png": "[encoded data removed]",
      "text/plain": [
       "<Figure size 432x288 with 1 Axes>"
      ]
     },
     "metadata": {
      "needs_background": "light"
     },
     "output_type": "display_data"
    }
   ],
   "source": [
    "reload_modules()\n",
    "net_dil = models.LogicalNotBiSE(kernel_size=(5, 5), activation_P=1, init_bias_value=-.5)\n",
    "net_dil2 = models.BiMoNN(\n",
    "    kernel_size=(5, 5), logical_not=True, activation_P=1, init_bias_value=-.5)\n",
    "plt.imshow(net_dil._normalized_weight[0, 0].detach())\n",
    "net_dil.to(device)\n",
    "net_dil2.to(device)"
   ]
  },
  {
   "cell_type": "code",
   "execution_count": 72,
   "id": "f08c3431",
   "metadata": {},
   "outputs": [],
   "source": [
    "img, target = next(iter(dataloader))"
   ]
  },
  {
   "cell_type": "code",
   "execution_count": 101,
   "id": "621108e3",
   "metadata": {},
   "outputs": [],
   "source": [
    "reload_modules()\n",
    "alphas = np.linspace(-10, 10, 100)\n",
    "loss_values = []\n",
    "loss = nn.BCEWithLogitsLoss()\n",
    "\n",
    "for alpha in alphas:\n",
    "#     net_dil = bimonn.BiMoNN(\n",
    "#         kernel_size=[(5, 5)], logical_not=True, activation_P=1, alpha_init=alpha)\n",
    "#     net_dil.logical_not_layer.alpha.fill_(alpha)\n",
    "    net_dil = bise.LogicalNotBiSE(kernel_size=(5, 5), activation_P=1, alpha_init=alpha)\n",
    "    net_dil.to(device)\n",
    "\n",
    "    with torch.no_grad():\n",
    "        loss_values.append(loss(net_dil(img).squeeze(), target).detach().item())"
   ]
  },
  {
   "cell_type": "code",
   "execution_count": 102,
   "id": "378966e3",
   "metadata": {},
   "outputs": [
    {
     "data": {
      "text/plain": [
       "[<matplotlib.lines.Line2D at 0x7f226d7e81f0>]"
      ]
     },
     "execution_count": 102,
     "metadata": {},
     "output_type": "execute_result"
    },
    {
     "data": {
      "image/png": "[encoded data removed]",
      "text/plain": [
       "<Figure size 432x288 with 1 Axes>"
      ]
     },
     "metadata": {
      "needs_background": "light"
     },
     "output_type": "display_data"
    }
   ],
   "source": [
    "# plt.plot(net_dil.bises[0].logical_not_layer.threshold_fn(torch.tensor(alphas)), loss_values)\n",
    "plt.plot(net_dil.logical_not_layer.threshold_fn(torch.tensor(alphas)), loss_values)"
   ]
  },
  {
   "cell_type": "code",
   "execution_count": 91,
   "id": "d7b64b00",
   "metadata": {},
   "outputs": [
    {
     "data": {
      "text/plain": [
       "Parameter containing:\n",
       "tensor([10.], device='cuda:0', requires_grad=True)"
      ]
     },
     "execution_count": 91,
     "metadata": {},
     "output_type": "execute_result"
    }
   ],
   "source": [
    "net_dil.bises[0].alpha"
   ]
  },
  {
   "cell_type": "code",
   "execution_count": 103,
   "id": "00194b2f",
   "metadata": {},
   "outputs": [
    {
     "data": {
      "text/plain": [
       "Parameter containing:\n",
       "tensor([10.], device='cuda:0', requires_grad=True)"
      ]
     },
     "execution_count": 103,
     "metadata": {},
     "output_type": "execute_result"
    }
   ],
   "source": [
    "net_dil.alpha"
   ]
  },
  {
   "cell_type": "code",
   "execution_count": 104,
   "id": "47982412",
   "metadata": {},
   "outputs": [
    {
     "data": {
      "text/plain": [
       "LogicalNotBiSE(\n",
       "  (conv): Conv2d(1, 1, kernel_size=(5, 5), stride=(1, 1), padding=(2, 2), bias=False)\n",
       "  (weight_threshold_layer): SigmoidLayer()\n",
       "  (activation_threshold_layer): TanhLayer()\n",
       "  (logical_not_layer): LogicalNotLayer()\n",
       ")"
      ]
     },
     "execution_count": 104,
     "metadata": {},
     "output_type": "execute_result"
    }
   ],
   "source": [
    "net_dil"
   ]
  },
  {
   "cell_type": "code",
   "execution_count": 96,
   "id": "b0181a97",
   "metadata": {},
   "outputs": [
    {
     "data": {
      "text/plain": [
       "BiMoNN(\n",
       "  (layer1): LogicalNotBiSE(\n",
       "    (conv): Conv2d(1, 1, kernel_size=(5, 5), stride=(1, 1), padding=(2, 2), bias=False)\n",
       "    (weight_threshold_layer): SigmoidLayer()\n",
       "    (activation_threshold_layer): SigmoidLayer()\n",
       "    (logical_not_layer): LogicalNotLayer()\n",
       "  )\n",
       "  (layer2): LogicalNotBiSE(\n",
       "    (conv): Conv2d(1, 1, kernel_size=(5, 5), stride=(1, 1), padding=(2, 2), bias=False)\n",
       "    (weight_threshold_layer): SigmoidLayer()\n",
       "    (activation_threshold_layer): SigmoidLayer()\n",
       "    (logical_not_layer): LogicalNotLayer()\n",
       "  )\n",
       ")"
      ]
     },
     "execution_count": 96,
     "metadata": {},
     "output_type": "execute_result"
    }
   ],
   "source": [
    "net_dil"
   ]
  }
 ],
 "metadata": {
  "kernelspec": {
   "display_name": "torchenv",
   "language": "python",
   "name": "torchenv"
  },
  "language_info": {
   "codemirror_mode": {
    "name": "ipython",
    "version": 3
   },
   "file_extension": ".py",
   "mimetype": "text/x-python",
   "name": "python",
   "nbconvert_exporter": "python",
   "pygments_lexer": "ipython3",
   "version": "3.8.0"
  },
  "toc": {
   "base_numbering": 1,
   "nav_menu": {},
   "number_sections": true,
   "sideBar": true,
   "skip_h1_title": false,
   "title_cell": "Table of Contents",
   "title_sidebar": "Contents",
   "toc_cell": false,
   "toc_position": {
    "height": "calc(100% - 180px)",
    "left": "10px",
    "top": "150px",
    "width": "384px"
   },
   "toc_section_display": true,
   "toc_window_display": true
  }
 },
 "nbformat": 4,
 "nbformat_minor": 5
}
