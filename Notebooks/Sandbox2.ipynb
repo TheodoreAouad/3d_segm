{
 "cells": [
  {
   "cell_type": "code",
   "execution_count": 1,
   "metadata": {},
   "outputs": [
    {
     "name": "stdout",
     "output_type": "stream",
     "text": [
      "/hdd/aouadt/these/projets/3d_segm\n"
     ]
    }
   ],
   "source": [
    "%cd .."
   ]
  },
  {
   "cell_type": "code",
   "execution_count": 2,
   "metadata": {},
   "outputs": [
    {
     "ename": "ModuleNotFoundError",
     "evalue": "No module named 'deep_morpho.models.cobise'",
     "output_type": "error",
     "traceback": [
      "\u001b[0;31m---------------------------------------------------------------------------\u001b[0m",
      "\u001b[0;31mModuleNotFoundError\u001b[0m                       Traceback (most recent call last)",
      "\u001b[0;32m/tmp/ipykernel_15604/1285707144.py\u001b[0m in \u001b[0;36m<module>\u001b[0;34m\u001b[0m\n\u001b[1;32m     50\u001b[0m \u001b[0;32mimport\u001b[0m \u001b[0mdeep_morpho\u001b[0m\u001b[0;34m.\u001b[0m\u001b[0mmodels\u001b[0m\u001b[0;34m.\u001b[0m\u001b[0mlui\u001b[0m \u001b[0;32mas\u001b[0m \u001b[0mlui\u001b[0m\u001b[0;34m\u001b[0m\u001b[0;34m\u001b[0m\u001b[0m\n\u001b[1;32m     51\u001b[0m \u001b[0;32mimport\u001b[0m \u001b[0mdeep_morpho\u001b[0m\u001b[0;34m.\u001b[0m\u001b[0mmodels\u001b[0m\u001b[0;34m.\u001b[0m\u001b[0mbisel\u001b[0m \u001b[0;32mas\u001b[0m \u001b[0mbisel\u001b[0m\u001b[0;34m\u001b[0m\u001b[0;34m\u001b[0m\u001b[0m\n\u001b[0;32m---> 52\u001b[0;31m \u001b[0;32mimport\u001b[0m \u001b[0mdeep_morpho\u001b[0m\u001b[0;34m.\u001b[0m\u001b[0mmodels\u001b[0m\u001b[0;34m.\u001b[0m\u001b[0mcobise\u001b[0m \u001b[0;32mas\u001b[0m \u001b[0mcobise\u001b[0m\u001b[0;34m\u001b[0m\u001b[0;34m\u001b[0m\u001b[0m\n\u001b[0m\u001b[1;32m     53\u001b[0m \u001b[0;32mimport\u001b[0m \u001b[0mdeep_morpho\u001b[0m\u001b[0;34m.\u001b[0m\u001b[0mmodels\u001b[0m\u001b[0;34m.\u001b[0m\u001b[0mdilation_sum_layer\u001b[0m \u001b[0;32mas\u001b[0m \u001b[0mdis\u001b[0m\u001b[0;34m\u001b[0m\u001b[0;34m\u001b[0m\u001b[0m\n\u001b[1;32m     54\u001b[0m \u001b[0;32mimport\u001b[0m \u001b[0mdeep_morpho\u001b[0m\u001b[0;34m.\u001b[0m\u001b[0mmodels\u001b[0m\u001b[0;34m.\u001b[0m\u001b[0mbimonn\u001b[0m \u001b[0;32mas\u001b[0m \u001b[0mbimonn\u001b[0m\u001b[0;34m\u001b[0m\u001b[0;34m\u001b[0m\u001b[0m\n",
      "\u001b[0;31mModuleNotFoundError\u001b[0m: No module named 'deep_morpho.models.cobise'"
     ]
    }
   ],
   "source": [
    "from importlib import reload\n",
    "import random\n",
    "from functools import reduce, partial\n",
    "from os.path import join\n",
    "from time import time\n",
    "import os\n",
    "\n",
    "from tqdm import tqdm\n",
    "import pandas as pd\n",
    "import cv2\n",
    "import numpy as np\n",
    "import matplotlib\n",
    "import matplotlib.pyplot as plt\n",
    "import torch\n",
    "import torch.nn as nn\n",
    "from torch.utils.data.dataloader import DataLoader\n",
    "import pytorch_lightning as pl\n",
    "import skimage.morphology as morp\n",
    "from pytorch_lightning import Trainer\n",
    "from pytorch_lightning.loggers import TensorBoardLogger\n",
    "from PIL import Image, ImageDraw\n",
    "import torchviz\n",
    "# from deep_morpho.datasets.mnist_dataset import MnistClassifDataset\n",
    "# from deep_morpho.models import LightningBiMoNNClassifier, BiSE, COBiSE, BiSEC, COBiSEC\n",
    "\n",
    "\n",
    "import deep_morpho.models.softplus as sfp\n",
    "import general.array_morphology as arm\n",
    "import general.structuring_elements as selm\n",
    "from general.nn.loss import DiceLoss\n",
    "\n",
    "import deep_morpho.binarization.bise_closest_selem as bcs\n",
    "import deep_morpho.binarization as binarization\n",
    "\n",
    "import deep_morpho.initializer.bise_initializer as bise_init\n",
    "import deep_morpho.initializer.bisel_initializer as bisel_init\n",
    "import deep_morpho.initializer.bimonn_initializer as bimonn_init\n",
    "import deep_morpho.initializer as inits\n",
    "\n",
    "import deep_morpho.loss as dmloss\n",
    "import deep_morpho.threshold_fn as threshold_fn\n",
    "import deep_morpho.morp_operations as morpop\n",
    "import deep_morpho.models.threshold_layer as threshold_layer\n",
    "import deep_morpho.models.weights_layer as weights_layer\n",
    "import deep_morpho.models.complementation_layer as complementation_layer\n",
    "import deep_morpho.models.pconv as pconv\n",
    "import deep_morpho.models.lightning_pconv as lpconv\n",
    "import deep_morpho.models.bise_base as bise_base\n",
    "import deep_morpho.models.bise as bise\n",
    "import deep_morpho.models.lui as lui\n",
    "import deep_morpho.models.bisel as bisel\n",
    "import deep_morpho.models.cobise as cobise\n",
    "import deep_morpho.models.dilation_sum_layer as dis\n",
    "import deep_morpho.models.bimonn as bimonn\n",
    "import deep_morpho.models as models\n",
    "import deep_morpho.models.lightning_bise as lbise\n",
    "import deep_morpho.models.lightning_cobise as lcobise\n",
    "import deep_morpho.models.lightning_bimonn as lbimonn\n",
    "import deep_morpho.datasets.generate_forms1 as gfo\n",
    "import deep_morpho.datasets.generate_forms2 as gfo2\n",
    "import deep_morpho.datasets.generate_forms3 as gfo3\n",
    "import deep_morpho.datasets.axspa_roi_dataset as axd\n",
    "import deep_morpho.datasets.diskorect_dataset as mrda\n",
    "import deep_morpho.datasets.mnist_dataset as mnist_dataset\n",
    "import deep_morpho.observables.plot_parameters as obs_weights\n",
    "import deep_morpho.observables.plot_pred as obs_pred\n",
    "import deep_morpho.observables.weight_histogram as weight_histogram\n",
    "import deep_morpho.observables as obs\n",
    "import general.nn.viz.plot_histogram as phist\n",
    "import general.nn.viz.element_image as eltimage\n",
    "import general.nn.viz.element_histogram as elthistogram\n",
    "import deep_morpho.viz.morp_operations_viz as mov\n",
    "import deep_morpho.viz.elt_generator_bimonn_forward_save as eltgenbifor\n",
    "import deep_morpho.viz.elt_generator_bimonn_histogram as eltgenbihist\n",
    "import deep_morpho.viz.bimonn_viz as bimonn_viz\n",
    "\n",
    "import deep_morpho.biblio_comparison.original_models.models.smorph as ori_smorph\n",
    "import deep_morpho.biblio_comparison.models as bib_models\n",
    "\n",
    "def reload_modules():\n",
    "    for modl in [bcs, binarization, bise_init, bisel_init, bimonn_init, inits, sfp, arm, dmloss, selm, threshold_fn, morpop,\n",
    "                 threshold_layer, weights_layer, complementation_layer, pconv, lpconv, bise_base, bise, lui, bisel, cobise,\n",
    "                 dis, bimonn, models, lbise, lbimonn, lcobise, gfo, gfo2, gfo3, axd,\n",
    "                 mrda, mnist_dataset, obs_weights, obs_pred, obs,\n",
    "                weight_histogram, phist, eltimage, elthistogram, mov, eltgenbifor, eltgenbihist, bimonn_viz,\n",
    "                ori_smorph, bib_models]:\n",
    "        reload(modl)\n",
    "        \n",
    "reload_modules()\n",
    "\n",
    "device = 'cpu'\n",
    "if torch.cuda.is_available():\n",
    "    device = 'cuda'\n",
    "print(device)"
   ]
  },
  {
   "cell_type": "code",
   "execution_count": 74,
   "metadata": {},
   "outputs": [],
   "source": [
    "model_ori = ori_smorph.SMorph(in_channels=1, out_channels=1, filter_size=7)\n",
    "model_rec = bib_models.SMorph(kernel_size=(7, 7))\n",
    "\n",
    "# model_rec.weights.data = torch.ones(7, 7)\n",
    "model_ori.filter.data = model_rec.weights[None, None, ...]"
   ]
  },
  {
   "cell_type": "code",
   "execution_count": 78,
   "metadata": {},
   "outputs": [
    {
     "name": "stdout",
     "output_type": "stream",
     "text": [
      "tensor(0.0319, grad_fn=<MeanBackward0>)\n",
      "tensor(0., grad_fn=<SumBackward0>)\n"
     ]
    }
   ],
   "source": [
    "x = torch.rand(1, 1, 50, 50)\n",
    "ot_rec = model_rec(x)\n",
    "ot_ori = model_ori(x)\n",
    "\n",
    "print((ot_rec - ot_ori).abs().mean())\n",
    "print((ot_rec[3:-3, -3:3] - ot_ori[3:-3, -3:3]).abs().sum())"
   ]
  },
  {
   "cell_type": "code",
   "execution_count": 79,
   "metadata": {},
   "outputs": [
    {
     "data": {
      "text/plain": [
       "<matplotlib.image.AxesImage at 0x7fe656662730>"
      ]
     },
     "execution_count": 79,
     "metadata": {},
     "output_type": "execute_result"
    },
    {
     "data": {
      "image/png": "[encoded data removed]",
      "text/plain": [
       "<Figure size 432x288 with 1 Axes>"
      ]
     },
     "metadata": {
      "needs_background": "light"
     },
     "output_type": "display_data"
    }
   ],
   "source": [
    "plt.imshow(ot_rec.squeeze().detach())"
   ]
  },
  {
   "cell_type": "code",
   "execution_count": 66,
   "metadata": {},
   "outputs": [
    {
     "name": "stdout",
     "output_type": "stream",
     "text": [
      "(tensor([1.1404, 1.1575, 1.1813,  ..., 1.6210, 1.6304, 1.6307],\n",
      "       grad_fn=<Unique2Backward0>), tensor([1, 1, 1,  ..., 1, 1, 1]))\n",
      "(tensor([1.3800, 1.3843, 1.3864,  ..., 1.6610, 1.6627, 1.6876],\n",
      "       grad_fn=<Unique2Backward0>), tensor([1, 1, 1,  ..., 1, 1, 1]))\n"
     ]
    }
   ],
   "source": [
    "print(ot_rec.unique(return_counts=True))\n",
    "print(ot_ori.unique(return_counts=True))\n"
   ]
  },
  {
   "cell_type": "code",
   "execution_count": 62,
   "metadata": {},
   "outputs": [
    {
     "name": "stdout",
     "output_type": "stream",
     "text": [
      "(tensor([1.3265, 1.4082, 1.4898, 1.5102, 1.5714, 1.6122, 1.7143, 1.7347, 1.8571,\n",
      "        2.0000], grad_fn=<Unique2Backward0>), tensor([   4,    8,    8,    4,  176,    8,  176,    4,  176, 1936]))\n",
      "(tensor([2.], grad_fn=<Unique2Backward0>), tensor([2500]))\n"
     ]
    }
   ],
   "source": [
    "print(output.unique(return_counts=True))\n",
    "print(ot_ori.unique(return_counts=True))\n"
   ]
  },
  {
   "cell_type": "code",
   "execution_count": null,
   "metadata": {},
   "outputs": [],
   "source": [
    "ot_rec[]"
   ]
  },
  {
   "cell_type": "code",
   "execution_count": null,
   "metadata": {},
   "outputs": [],
   "source": []
  },
  {
   "cell_type": "code",
   "execution_count": 46,
   "metadata": {},
   "outputs": [
    {
     "data": {
      "text/plain": [
       "tensor([[[[1.3265, 1.4082, 1.4898,  ..., 1.4898, 1.4082, 1.3265],\n",
       "          [1.4082, 1.5102, 1.6122,  ..., 1.6122, 1.5102, 1.4082],\n",
       "          [1.4898, 1.6122, 1.7347,  ..., 1.7347, 1.6122, 1.4898],\n",
       "          ...,\n",
       "          [1.4898, 1.6122, 1.7347,  ..., 1.7347, 1.6122, 1.4898],\n",
       "          [1.4082, 1.5102, 1.6122,  ..., 1.6122, 1.5102, 1.4082],\n",
       "          [1.3265, 1.4082, 1.4898,  ..., 1.4898, 1.4082, 1.3265]]]],\n",
       "       grad_fn=<DivBackward0>)"
      ]
     },
     "execution_count": 46,
     "metadata": {},
     "output_type": "execute_result"
    }
   ],
   "source": [
    "ot_rec"
   ]
  },
  {
   "cell_type": "code",
   "execution_count": null,
   "metadata": {},
   "outputs": [],
   "source": []
  }
 ],
 "metadata": {
  "kernelspec": {
   "display_name": "Python 3.8.0 ('torchenv')",
   "language": "python",
   "name": "python3"
  },
  "language_info": {
   "codemirror_mode": {
    "name": "ipython",
    "version": 3
   },
   "file_extension": ".py",
   "mimetype": "text/x-python",
   "name": "python",
   "nbconvert_exporter": "python",
   "pygments_lexer": "ipython3",
   "version": "3.8.16"
  },
  "orig_nbformat": 4,
  "vscode": {
   "interpreter": {
    "hash": "616f52fbe5c706563a560a0f264b4efceff38c19b25b56b7556be5a074dc2458"
   }
  }
 },
 "nbformat": 4,
 "nbformat_minor": 2
}
