{
 "cells": [
  {
   "cell_type": "code",
   "execution_count": 1,
   "metadata": {},
   "outputs": [
    {
     "name": "stdout",
     "output_type": "stream",
     "text": [
      "/hdd/aouadt/these/projets/3d_segm\n"
     ]
    }
   ],
   "source": [
    "%cd .."
   ]
  },
  {
   "cell_type": "code",
   "execution_count": 2,
   "metadata": {},
   "outputs": [
    {
     "ename": "ModuleNotFoundError",
     "evalue": "No module named 'deep_morpho.models.cobise'",
     "output_type": "error",
     "traceback": [
      "\u001b[0;31m---------------------------------------------------------------------------\u001b[0m",
      "\u001b[0;31mModuleNotFoundError\u001b[0m                       Traceback (most recent call last)",
      "\u001b[0;32m/tmp/ipykernel_7506/106242117.py\u001b[0m in \u001b[0;36m<module>\u001b[0;34m\u001b[0m\n\u001b[1;32m     40\u001b[0m \u001b[0;32mimport\u001b[0m \u001b[0mdeep_morpho\u001b[0m\u001b[0;34m.\u001b[0m\u001b[0mmodels\u001b[0m\u001b[0;34m.\u001b[0m\u001b[0mlui\u001b[0m \u001b[0;32mas\u001b[0m \u001b[0mlui\u001b[0m\u001b[0;34m\u001b[0m\u001b[0;34m\u001b[0m\u001b[0m\n\u001b[1;32m     41\u001b[0m \u001b[0;32mimport\u001b[0m \u001b[0mdeep_morpho\u001b[0m\u001b[0;34m.\u001b[0m\u001b[0mmodels\u001b[0m\u001b[0;34m.\u001b[0m\u001b[0mbisel\u001b[0m \u001b[0;32mas\u001b[0m \u001b[0mbisel\u001b[0m\u001b[0;34m\u001b[0m\u001b[0;34m\u001b[0m\u001b[0m\n\u001b[0;32m---> 42\u001b[0;31m \u001b[0;32mimport\u001b[0m \u001b[0mdeep_morpho\u001b[0m\u001b[0;34m.\u001b[0m\u001b[0mmodels\u001b[0m\u001b[0;34m.\u001b[0m\u001b[0mcobise\u001b[0m \u001b[0;32mas\u001b[0m \u001b[0mcobise\u001b[0m\u001b[0;34m\u001b[0m\u001b[0;34m\u001b[0m\u001b[0m\n\u001b[0m\u001b[1;32m     43\u001b[0m \u001b[0;32mimport\u001b[0m \u001b[0mdeep_morpho\u001b[0m\u001b[0;34m.\u001b[0m\u001b[0mmodels\u001b[0m\u001b[0;34m.\u001b[0m\u001b[0mdilation_sum_layer\u001b[0m \u001b[0;32mas\u001b[0m \u001b[0mdis\u001b[0m\u001b[0;34m\u001b[0m\u001b[0;34m\u001b[0m\u001b[0m\n\u001b[1;32m     44\u001b[0m \u001b[0;32mimport\u001b[0m \u001b[0mdeep_morpho\u001b[0m\u001b[0;34m.\u001b[0m\u001b[0mmodels\u001b[0m\u001b[0;34m.\u001b[0m\u001b[0mbimonn\u001b[0m \u001b[0;32mas\u001b[0m \u001b[0mbimonn\u001b[0m\u001b[0;34m\u001b[0m\u001b[0;34m\u001b[0m\u001b[0m\n",
      "\u001b[0;31mModuleNotFoundError\u001b[0m: No module named 'deep_morpho.models.cobise'"
     ]
    }
   ],
   "source": [
    "from enum import Enum\n",
    "from importlib import reload\n",
    "import random\n",
    "from functools import reduce\n",
    "from os.path import join\n",
    "from time import time\n",
    "import os\n",
    "import pathlib\n",
    "\n",
    "from tqdm import tqdm\n",
    "import pandas as pd\n",
    "import cv2\n",
    "import numpy as np\n",
    "import matplotlib\n",
    "import matplotlib.pyplot as plt\n",
    "import torch\n",
    "import torch.nn as nn\n",
    "from torch.utils.data.dataloader import DataLoader\n",
    "import pytorch_lightning as pl\n",
    "import skimage.morphology as morp\n",
    "from pytorch_lightning import Trainer\n",
    "from pytorch_lightning.loggers import TensorBoardLogger\n",
    "from PIL import Image, ImageDraw\n",
    "import torchviz\n",
    "# import chart_studio.plotly as ply\n",
    "\n",
    "\n",
    "from deep_morpho.datasets.mnist_dataset import MnistClassifDataset\n",
    "import deep_morpho.models.softplus as sfp\n",
    "import general.array_morphology as arm\n",
    "import general.structuring_elements as selm\n",
    "from general.nn.loss import DiceLoss\n",
    "import deep_morpho.threshold_fn as threshold_fn\n",
    "import deep_morpho.morp_operations as morpop\n",
    "import deep_morpho.models.threshold_layer as threshold_layer\n",
    "import deep_morpho.models.complementation_layer as complementation_layer\n",
    "import deep_morpho.models.pconv as pconv\n",
    "import deep_morpho.models.lightning_pconv as lpconv\n",
    "import deep_morpho.models.bise as bise\n",
    "import deep_morpho.models.lui as lui\n",
    "import deep_morpho.models.bisel as bisel\n",
    "import deep_morpho.models.cobise as cobise\n",
    "import deep_morpho.models.dilation_sum_layer as dis\n",
    "import deep_morpho.models.bimonn as bimonn\n",
    "import deep_morpho.models as models\n",
    "import deep_morpho.models.lightning_bise as lbise\n",
    "import deep_morpho.models.lightning_cobise as lcobise\n",
    "import deep_morpho.models.lightning_bimonn as lbimonn\n",
    "import deep_morpho.datasets.generate_forms1 as gfo\n",
    "import deep_morpho.datasets.generate_forms2 as gfo2\n",
    "import deep_morpho.datasets.generate_forms3 as gfo3\n",
    "import deep_morpho.datasets.axspa_roi_dataset as axd\n",
    "import deep_morpho.datasets.diskorect_dataset as mrda\n",
    "import deep_morpho.datasets.mnist_dataset as mnist_dataset\n",
    "import deep_morpho.observables.plot_parameters as obs_weights\n",
    "import deep_morpho.observables.plot_pred as obs_pred\n",
    "import deep_morpho.observables.weight_histogram as weight_histogram\n",
    "import deep_morpho.observables as obs\n",
    "import general.nn.viz.plot_histogram as phist\n",
    "import general.nn.viz.element_image as eltimage\n",
    "import general.nn.viz.element_histogram as elthistogram\n",
    "import deep_morpho.viz.morp_operations_viz as mov\n",
    "import deep_morpho.viz.elt_generator_bimonn_forward_save as eltgenbifor\n",
    "import deep_morpho.viz.elt_generator_bimonn_histogram as eltgenbihist\n",
    "import deep_morpho.viz.bimonn_viz as bimonn_viz\n",
    "\n",
    "def reload_modules():\n",
    "    for modl in [sfp, arm, selm, threshold_fn, morpop,\n",
    "                 threshold_layer,complementation_layer, pconv, lpconv, bise, lui, bisel, cobise,\n",
    "                 dis, bimonn, models, lbise, lbimonn, lcobise, gfo, gfo2, gfo3, axd,\n",
    "                 mrda, mnist_dataset, obs_weights, obs_pred, obs,\n",
    "                weight_histogram, phist, eltimage, elthistogram, mov, eltgenbifor, eltgenbihist, bimonn_viz]:\n",
    "        reload(modl)\n",
    "        \n",
    "reload_modules()\n",
    "\n",
    "device = 'cpu'\n",
    "if torch.cuda.is_available():\n",
    "    device = 'cuda'\n",
    "print(device)"
   ]
  },
  {
   "cell_type": "code",
   "execution_count": 12,
   "metadata": {},
   "outputs": [],
   "source": [
    "dest = \"data/deep_morpho/binarization_selems\"\n",
    "dest_float = join(dest, \"float_selems\")\n",
    "dest_binary = join(dest, \"binary_selems\")\n",
    "\n",
    "metadata_path = join(dest, \"metadata.csv\")"
   ]
  },
  {
   "cell_type": "code",
   "execution_count": 13,
   "metadata": {},
   "outputs": [],
   "source": [
    "class CertaintyEnum(Enum):\n",
    "    NO_INFO = -1\n",
    "    IS_ACTIVATED = 0\n",
    "    NOT_ACTIVATED_BUT_CERTAIN = 1\n",
    "    QUITE_CERTAIN = 2\n",
    "\n",
    "class OperationEnum(Enum):\n",
    "    DILATION = 'dilation'\n",
    "    EROSION = 'erosion'"
   ]
  },
  {
   "cell_type": "code",
   "execution_count": 14,
   "metadata": {},
   "outputs": [],
   "source": [
    "def add_to_database(\n",
    "    float_selem: np.ndarray,\n",
    "    binary_selem: np.ndarray,\n",
    "    bias: float,\n",
    "    operation: OperationEnum,\n",
    "    is_generated: bool,\n",
    "    metadata_path: str = metadata_path,\n",
    "    certainty: CertaintyEnum = CertaintyEnum.NO_INFO,\n",
    "    dest_float: str = dest_float,\n",
    "    dest_binary: str = dest_binary\n",
    "):\n",
    "    \"\"\"Add a couple (float, binary) to the database. Must give the bias. Saves the arrays and updates the metadata.\n",
    "\n",
    "    Args:\n",
    "        metadata_path (str): path to metadata that will be updated.\n",
    "        float_selem (np.ndarray): array in float numbers\n",
    "        binary_selem (np.ndarray): array in binary numbers\n",
    "        bias (float): value of the bias\n",
    "        operation (OperationEnum): dilation or erosion\n",
    "        certainty (CertaintyEnum, optional): certainty description of the element. Use to classify the dataset and use it\n",
    "                                                more easily.\n",
    "        dest_float (str, optional): Destination folder for the float selem. Defaults to dest_float.\n",
    "        dest_binary (str, optional): Destination folder for the binary selem. Defaults to dest_binary.\n",
    "    \"\"\"\n",
    "    pathlib.Path(dest_float).mkdir(exist_ok=True, parents=True)\n",
    "    pathlib.Path(dest_binary).mkdir(exist_ok=True, parents=True)\n",
    "\n",
    "    float_path = join(dest_float, f'{len(os.listdir(dest_float))}.npy')\n",
    "    binary_path = join(dest_binary, f'{len(os.listdir(dest_binary))}.npy')\n",
    "    \n",
    "    if not os.path.exists(metadata_path):\n",
    "        df = pd.DataFrame()\n",
    "        pathlib.Path(metadata_path).parent.mkdir(exist_ok=True, parents=True)\n",
    "    else:\n",
    "        df = pd.read_csv(metadata_path)\n",
    "\n",
    "    row = pd.DataFrame({\n",
    "        'float_selem_path': [float_path],\n",
    "        'binary_selem_path': [binary_path],\n",
    "        'operation': [operation.value],\n",
    "        'bias': [bias],\n",
    "        'certainty': [certainty],\n",
    "        'is_generated': [is_generated],\n",
    "    })\n",
    "    \n",
    "    df = pd.concat([df, row])\n",
    "\n",
    "    np.save(float_path, float_selem)\n",
    "    np.save(binary_path, binary_selem.astype(np.uint8))\n",
    "\n",
    "\n",
    "    df.to_csv(metadata_path, index=False)\n",
    "    print(f\"Added to database:\\nFloat: {float_path}\\nBinary: {binary_path}\")\n",
    "    return df"
   ]
  },
  {
   "cell_type": "markdown",
   "metadata": {},
   "source": [
    "# Add generated examples"
   ]
  },
  {
   "cell_type": "code",
   "execution_count": 4,
   "metadata": {},
   "outputs": [],
   "source": [
    "reload_modules()\n",
    "img = selm.hstick(7)\n",
    "\n",
    "for _ in range(10):\n",
    "    eps = np.random.rand()\n",
    "    bias = np.random.rand() * eps\n",
    "\n",
    "    img[3, -1] = eps\n",
    "    selem = selm.hstick(7)\n",
    "    if bias >= eps:\n",
    "        selem[3, -1] = 0\n",
    "    \n",
    "    assert bise.BiSE.is_dilation_by(torch.tensor(img), -bias, selem.astype(bool)), _\n",
    "    # add_to_database(img, selem, -bias, OperationEnum.DILATION, is_generated=True, certainty=CertaintyEnum.IS_ACTIVATED)\n",
    "\n",
    "for _ in range(10):\n",
    "    eps = np.random.rand()\n",
    "    bias = np.random.rand() * (1 - eps) + eps\n",
    "\n",
    "    img[3, -1] = eps\n",
    "    selem = selm.hstick(7)\n",
    "    if bias >= eps:\n",
    "        selem[3, -1] = 0\n",
    "    \n",
    "    assert bise.BiSE.is_dilation_by(torch.tensor(img), -bias, selem.astype(bool)), _\n",
    "    # add_to_database(img, selem, -bias, OperationEnum.DILATION, is_generated=True, certainty=CertaintyEnum.IS_ACTIVATED)\n",
    "\n"
   ]
  },
  {
   "cell_type": "code",
   "execution_count": 103,
   "metadata": {},
   "outputs": [
    {
     "data": {
      "text/plain": [
       "<matplotlib.image.AxesImage at 0x7ff4d82c0dc0>"
      ]
     },
     "execution_count": 103,
     "metadata": {},
     "output_type": "execute_result"
    },
    {
     "data": {
      "image/png": "[encoded data removed]",
      "text/plain": [
       "<Figure size 432x288 with 2 Axes>"
      ]
     },
     "metadata": {
      "needs_background": "light"
     },
     "output_type": "display_data"
    }
   ],
   "source": [
    "plt.subplot(121)\n",
    "plt.imshow(img)\n",
    "plt.title(f\"bias={bias:.2f}  eps={eps:.2f}\")\n",
    "\n",
    "plt.subplot(122)\n",
    "plt.imshow(selem)"
   ]
  },
  {
   "cell_type": "markdown",
   "metadata": {},
   "source": [
    "# Add True encountered examples"
   ]
  },
  {
   "cell_type": "code",
   "execution_count": 4,
   "metadata": {},
   "outputs": [
    {
     "data": {
      "text/plain": [
       "[]"
      ]
     },
     "execution_count": 4,
     "metadata": {},
     "output_type": "execute_result"
    },
    {
     "data": {
      "image/png": "[encoded data removed]",
      "text/plain": [
       "<Figure size 720x720 with 1 Axes>"
      ]
     },
     "metadata": {},
     "output_type": "display_data"
    }
   ],
   "source": [
    "tb_path = \"deep_morpho/results/results_tensorboards/Bimonn_exp_59/sandbox/0/softplus/diskorect/translation_erosion/hstick/version_0\"\n",
    "tb_path = join(tb_path, 'checkpoints', os.listdir(join(tb_path, 'checkpoints'))[0])\n",
    "\n",
    "model = models.LightningBiMoNN.load_from_checkpoint(tb_path)\n",
    "model.to(device)\n",
    "\n",
    "fig_weights = bimonn_viz.BimonnVizualiser(model.model).get_fig(figsize=(10, 10), axis='on')\n",
    "fig_weights.axes[0].set_xticks([])\n",
    "fig_weights.axes[0].set_yticks([])"
   ]
  },
  {
   "cell_type": "code",
   "execution_count": 65,
   "metadata": {},
   "outputs": [],
   "source": [
    "layer = model.model.layers[1].bise_0\n"
   ]
  },
  {
   "cell_type": "code",
   "execution_count": 68,
   "metadata": {},
   "outputs": [],
   "source": [
    "weights_float = layer._normalized_weight.squeeze().cpu().detach().numpy()\n",
    "# selem_binary = selm.hstick(7)\n",
    "selem_binary = np.zeros_like(weights_float)\n",
    "selem_binary[1, 2] = 1\n",
    "bias = layer.bias.item()\n",
    "operation = OperationEnum.EROSION\n",
    "certainty = CertaintyEnum.QUITE_CERTAIN"
   ]
  },
  {
   "cell_type": "code",
   "execution_count": 69,
   "metadata": {},
   "outputs": [
    {
     "data": {
      "text/plain": [
       "<matplotlib.image.AxesImage at 0x7ff39d781190>"
      ]
     },
     "execution_count": 69,
     "metadata": {},
     "output_type": "execute_result"
    },
    {
     "data": {
      "image/png": "[encoded data removed]",
      "text/plain": [
       "<Figure size 432x288 with 2 Axes>"
      ]
     },
     "metadata": {
      "needs_background": "light"
     },
     "output_type": "display_data"
    }
   ],
   "source": [
    "plt.subplot(121)\n",
    "plt.imshow(weights_float, cmap='gray')\n",
    "plt.title(f'bias: {bias:.2f}  sum: {weights_float.sum():.2f}')\n",
    "\n",
    "plt.subplot(122)\n",
    "plt.imshow(selem_binary)"
   ]
  },
  {
   "cell_type": "code",
   "execution_count": 70,
   "metadata": {},
   "outputs": [
    {
     "name": "stdout",
     "output_type": "stream",
     "text": [
      "Added to database:\n",
      "Float: data/deep_morpho/binarization_selems/float_selems/3.npy\n",
      "Binary: data/deep_morpho/binarization_selems/binary_selems/3.npy\n"
     ]
    }
   ],
   "source": [
    "df = add_to_database(float_selem=weights_float, binary_selem=selem_binary, bias=bias, operation=operation, certainty=certainty, is_generated=False)"
   ]
  },
  {
   "cell_type": "code",
   "execution_count": 86,
   "metadata": {},
   "outputs": [
    {
     "data": {
      "text/html": [
       "<div>\n",
       "<style scoped>\n",
       "    .dataframe tbody tr th:only-of-type {\n",
       "        vertical-align: middle;\n",
       "    }\n",
       "\n",
       "    .dataframe tbody tr th {\n",
       "        vertical-align: top;\n",
       "    }\n",
       "\n",
       "    .dataframe thead th {\n",
       "        text-align: right;\n",
       "    }\n",
       "</style>\n",
       "<table border=\"1\" class=\"dataframe\">\n",
       "  <thead>\n",
       "    <tr style=\"text-align: right;\">\n",
       "      <th></th>\n",
       "      <th>float_selem_path</th>\n",
       "      <th>binary_elem_path</th>\n",
       "      <th>operation</th>\n",
       "      <th>bias</th>\n",
       "      <th>certainty</th>\n",
       "      <th>is_generated</th>\n",
       "    </tr>\n",
       "  </thead>\n",
       "  <tbody>\n",
       "    <tr>\n",
       "      <th>0</th>\n",
       "      <td>data/deep_morpho/binarization_selems/float_sel...</td>\n",
       "      <td>data/deep_morpho/binarization_selems/binary_se...</td>\n",
       "      <td>OperationEnum.DILATION</td>\n",
       "      <td>-2.335849</td>\n",
       "      <td>CertaintyEnum.QUITE_CERTAIN</td>\n",
       "      <td>False</td>\n",
       "    </tr>\n",
       "    <tr>\n",
       "      <th>1</th>\n",
       "      <td>data/deep_morpho/binarization_selems/float_sel...</td>\n",
       "      <td>data/deep_morpho/binarization_selems/binary_se...</td>\n",
       "      <td>OperationEnum.EROSION</td>\n",
       "      <td>-0.352507</td>\n",
       "      <td>CertaintyEnum.QUITE_CERTAIN</td>\n",
       "      <td>False</td>\n",
       "    </tr>\n",
       "    <tr>\n",
       "      <th>2</th>\n",
       "      <td>data/deep_morpho/binarization_selems/float_sel...</td>\n",
       "      <td>data/deep_morpho/binarization_selems/binary_se...</td>\n",
       "      <td>OperationEnum.EROSION</td>\n",
       "      <td>-2.576281</td>\n",
       "      <td>CertaintyEnum.QUITE_CERTAIN</td>\n",
       "      <td>False</td>\n",
       "    </tr>\n",
       "    <tr>\n",
       "      <th>3</th>\n",
       "      <td>data/deep_morpho/binarization_selems/float_sel...</td>\n",
       "      <td>data/deep_morpho/binarization_selems/binary_se...</td>\n",
       "      <td>OperationEnum.EROSION</td>\n",
       "      <td>-2.412501</td>\n",
       "      <td>CertaintyEnum.QUITE_CERTAIN</td>\n",
       "      <td>False</td>\n",
       "    </tr>\n",
       "  </tbody>\n",
       "</table>\n",
       "</div>"
      ],
      "text/plain": [
       "                                    float_selem_path  \\\n",
       "0  data/deep_morpho/binarization_selems/float_sel...   \n",
       "1  data/deep_morpho/binarization_selems/float_sel...   \n",
       "2  data/deep_morpho/binarization_selems/float_sel...   \n",
       "3  data/deep_morpho/binarization_selems/float_sel...   \n",
       "\n",
       "                                    binary_elem_path               operation  \\\n",
       "0  data/deep_morpho/binarization_selems/binary_se...  OperationEnum.DILATION   \n",
       "1  data/deep_morpho/binarization_selems/binary_se...   OperationEnum.EROSION   \n",
       "2  data/deep_morpho/binarization_selems/binary_se...   OperationEnum.EROSION   \n",
       "3  data/deep_morpho/binarization_selems/binary_se...   OperationEnum.EROSION   \n",
       "\n",
       "       bias                    certainty  is_generated  \n",
       "0 -2.335849  CertaintyEnum.QUITE_CERTAIN         False  \n",
       "1 -0.352507  CertaintyEnum.QUITE_CERTAIN         False  \n",
       "2 -2.576281  CertaintyEnum.QUITE_CERTAIN         False  \n",
       "3 -2.412501  CertaintyEnum.QUITE_CERTAIN         False  "
      ]
     },
     "execution_count": 86,
     "metadata": {},
     "output_type": "execute_result"
    }
   ],
   "source": [
    "df"
   ]
  },
  {
   "cell_type": "markdown",
   "metadata": {},
   "source": [
    "# Evaluate binarization techniques"
   ]
  },
  {
   "cell_type": "code",
   "execution_count": 15,
   "metadata": {},
   "outputs": [],
   "source": [
    "df = pd.read_csv(metadata_path)"
   ]
  },
  {
   "cell_type": "code",
   "execution_count": 16,
   "metadata": {},
   "outputs": [],
   "source": [
    "def read_row(row):\n",
    "    float_img = np.load(row['float_selem_path'])\n",
    "    binary_img = np.load(row['binary_selem_path'])\n",
    "    operation = row['operation']\n",
    "    bias = row['bias']\n",
    "\n",
    "    return float_img, binary_img, operation, bias"
   ]
  },
  {
   "cell_type": "code",
   "execution_count": 17,
   "metadata": {},
   "outputs": [],
   "source": [
    "def find_closest(weights, bias, closest_selem_distance_fn=bise.ClosestSelemDistanceEnum.DISTANCE_TO_BOUNDS):\n",
    "    return bise.BiSE.find_closest_selem_and_operation_chan_static(\n",
    "        weights=torch.FloatTensor(weights).unsqueeze(0).unsqueeze(0), bias=torch.FloatTensor([bias]), idx=0,\n",
    "        closest_selem_distance_fn=closest_selem_distance_fn \n",
    "        )\n",
    "\n"
   ]
  },
  {
   "cell_type": "code",
   "execution_count": 24,
   "metadata": {},
   "outputs": [
    {
     "name": "stdout",
     "output_type": "stream",
     "text": [
      "All ok: 0.9166666666666666\n",
      "Operation ok 1.0\n",
      "Selem ok 0.9166666666666666\n"
     ]
    },
    {
     "data": {
      "text/html": [
       "<div>\n",
       "<style scoped>\n",
       "    .dataframe tbody tr th:only-of-type {\n",
       "        vertical-align: middle;\n",
       "    }\n",
       "\n",
       "    .dataframe tbody tr th {\n",
       "        vertical-align: top;\n",
       "    }\n",
       "\n",
       "    .dataframe thead th {\n",
       "        text-align: right;\n",
       "    }\n",
       "</style>\n",
       "<table border=\"1\" class=\"dataframe\">\n",
       "  <thead>\n",
       "    <tr style=\"text-align: right;\">\n",
       "      <th></th>\n",
       "      <th>all_ok</th>\n",
       "      <th>operation_ok</th>\n",
       "      <th>selem_ok</th>\n",
       "    </tr>\n",
       "    <tr>\n",
       "      <th>certainty</th>\n",
       "      <th></th>\n",
       "      <th></th>\n",
       "      <th></th>\n",
       "    </tr>\n",
       "  </thead>\n",
       "  <tbody>\n",
       "    <tr>\n",
       "      <th>CertaintyEnum.IS_ACTIVATED</th>\n",
       "      <td>1.0</td>\n",
       "      <td>1.0</td>\n",
       "      <td>1.0</td>\n",
       "    </tr>\n",
       "    <tr>\n",
       "      <th>CertaintyEnum.QUITE_CERTAIN</th>\n",
       "      <td>0.5</td>\n",
       "      <td>1.0</td>\n",
       "      <td>0.5</td>\n",
       "    </tr>\n",
       "  </tbody>\n",
       "</table>\n",
       "</div>"
      ],
      "text/plain": [
       "                             all_ok  operation_ok  selem_ok\n",
       "certainty                                                  \n",
       "CertaintyEnum.IS_ACTIVATED      1.0           1.0       1.0\n",
       "CertaintyEnum.QUITE_CERTAIN     0.5           1.0       0.5"
      ]
     },
     "execution_count": 24,
     "metadata": {},
     "output_type": "execute_result"
    }
   ],
   "source": [
    "reload_modules()\n",
    "is_ok = []\n",
    "is_operation_ok = []\n",
    "is_selem_ok = []\n",
    "\n",
    "selem_preds = []\n",
    "selem_trues = []\n",
    "float_imgs = []\n",
    "\n",
    "for row_idx, row in df.iterrows():\n",
    "# for row_idx, row in df[df['certainty'] == 'CertaintyEnum.QUITE_CERTAIN'].iterrows():\n",
    "    float_img, selem_true, operation_true, bias = read_row(row)\n",
    "    final_dist, selem_pred, operation_pred = find_closest(\n",
    "        float_img,\n",
    "        bias,\n",
    "        bise.ClosestSelemDistanceEnum.DISTANCE_TO_BOUNDS\n",
    "        # bise.ClosestSelemDistanceEnum.DISTANCE_BETWEEN_BOUNDS\n",
    "        # bise.ClosestSelemDistanceEnum.DISTANCE_TO_AND_BETWEEN_BOUNDS\n",
    "    )\n",
    "\n",
    "    selem_preds.append(selem_pred)\n",
    "    selem_trues.append(selem_true)\n",
    "    float_imgs.append(float_img)\n",
    "    is_operation_ok.append(operation_pred in operation_true)\n",
    "    is_selem_ok.append(np.abs(selem_true - selem_pred).sum() == 0)\n",
    "\n",
    "    is_ok.append((np.abs(selem_true - selem_pred).sum() == 0) & (operation_pred in operation_true))\n",
    "\n",
    "df['all_ok'] = is_ok\n",
    "df['operation_ok'] = is_operation_ok\n",
    "df['selem_ok'] = is_selem_ok\n",
    "\n",
    "print(\"All ok:\", np.mean(is_ok))\n",
    "print(\"Operation ok\", np.mean(is_operation_ok))\n",
    "print(\"Selem ok\", np.mean(is_selem_ok))\n",
    "df.groupby('certainty')[['all_ok', 'operation_ok', 'selem_ok']].mean()\n"
   ]
  },
  {
   "cell_type": "code",
   "execution_count": 27,
   "metadata": {},
   "outputs": [],
   "source": [
    "img, selem, _, _ = read_row(df.iloc[0])"
   ]
  },
  {
   "cell_type": "code",
   "execution_count": null,
   "metadata": {},
   "outputs": [],
   "source": [
    "plt.subplot(121)\n",
    "plt.imshow(img, cmap='gray')\n",
    "\n"
   ]
  }
 ],
 "metadata": {
  "interpreter": {
   "hash": "616f52fbe5c706563a560a0f264b4efceff38c19b25b56b7556be5a074dc2458"
  },
  "kernelspec": {
   "display_name": "Python 3.8.0 ('torchenv')",
   "language": "python",
   "name": "python3"
  },
  "language_info": {
   "codemirror_mode": {
    "name": "ipython",
    "version": 3
   },
   "file_extension": ".py",
   "mimetype": "text/x-python",
   "name": "python",
   "nbconvert_exporter": "python",
   "pygments_lexer": "ipython3",
   "version": "3.8.16"
  },
  "orig_nbformat": 4
 },
 "nbformat": 4,
 "nbformat_minor": 2
}
