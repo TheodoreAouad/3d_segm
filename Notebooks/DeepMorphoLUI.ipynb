{
 "cells": [
  {
   "cell_type": "code",
   "execution_count": 1,
   "id": "b1507d98",
   "metadata": {},
   "outputs": [
    {
     "name": "stdout",
     "output_type": "stream",
     "text": [
      "/hdd/aouadt/these/projets/3d_segm\n"
     ]
    }
   ],
   "source": [
    "%cd .."
   ]
  },
  {
   "cell_type": "markdown",
   "id": "0597bc55",
   "metadata": {},
   "source": [
    "# Imports"
   ]
  },
  {
   "cell_type": "code",
   "execution_count": 3,
   "id": "6957c990",
   "metadata": {},
   "outputs": [
    {
     "name": "stdout",
     "output_type": "stream",
     "text": [
      "Done\n"
     ]
    }
   ],
   "source": [
    "from typing import Dict, Callable, List\n",
    "from importlib import reload\n",
    "from os.path import join\n",
    "\n",
    "import numpy as np\n",
    "import matplotlib.pyplot as plt\n",
    "import torch\n",
    "import torch.nn as nn\n",
    "import torch.optim as optim\n",
    "from pytorch_lightning.loggers import TensorBoardLogger\n",
    "from pytorch_lightning import Trainer\n",
    "\n",
    "from general.nn.observables import CalculateAndLogMetrics\n",
    "import deep_morpho.observables.save_loss as save_loss\n",
    "import deep_morpho.observables.plot_lui_parameters as plp\n",
    "import deep_morpho.observables.plot_pred as plot_pred \n",
    "import deep_morpho.observables.convergence_steps as convergence_steps \n",
    "import deep_morpho.observables as obs\n",
    "import deep_morpho.datasets.generate_forms3 as gfo3\n",
    "import deep_morpho.datasets.diskorect_dataset as mrd\n",
    "import deep_morpho.models.lui as lui \n",
    "import deep_morpho.models.bise as bise\n",
    "import deep_morpho.models.bisel as bisel\n",
    "import deep_morpho.models.bimonn as bimonn\n",
    "from general.nn.pytorch_lightning_module.obs_lightning_module import NetLightning\n",
    "from deep_morpho.metrics import dice\n",
    "import general.array_morphology as am\n",
    "from general.structuring_elements import *\n",
    "import deep_morpho.morp_operations as mo\n",
    "\n",
    "\n",
    "def reload_modules():\n",
    "    for modl in [save_loss, plp, plot_pred, convergence_steps, obs,\n",
    "                 gfo3, mrd, lui, am, mo, bise, bisel, bimonn]:\n",
    "        reload(modl)\n",
    "        \n",
    "print(\"Done\")"
   ]
  },
  {
   "cell_type": "markdown",
   "id": "595ff59e",
   "metadata": {
    "heading_collapsed": true
   },
   "source": [
    "# Fonctions"
   ]
  },
  {
   "cell_type": "code",
   "execution_count": 3,
   "id": "66812c3f",
   "metadata": {
    "hidden": true
   },
   "outputs": [],
   "source": [
    "def intersection(ars, axis=-1):\n",
    "    return ars.sum(axis) == ars.shape[axis]\n",
    "\n",
    "def union(ars, axis=-1):\n",
    "    return ars.sum(axis) > 0\n",
    "\n",
    "def fn_chans(ar, fn, chans='all'):\n",
    "    if chans == 'all':\n",
    "        chans = range(ar.shape[-1])\n",
    "    return torch.tensor(fn(np.stack([ar[..., chan] for chan in chans], axis=-1)))\n",
    "\n",
    "def intersection_chans(ar, chans='all'):\n",
    "    return fn_chans(ar, intersection, chans)\n",
    "\n",
    "def union_chans(ar, chans='all'):\n",
    "    return fn_chans(ar, union, chans)"
   ]
  },
  {
   "cell_type": "markdown",
   "id": "42583061",
   "metadata": {
    "heading_collapsed": true
   },
   "source": [
    "# Sandbox"
   ]
  },
  {
   "cell_type": "code",
   "execution_count": 21,
   "id": "605d6402",
   "metadata": {
    "hidden": true
   },
   "outputs": [],
   "source": [
    "reload_modules()\n",
    "\n",
    "dataloader = mrd.DiskorectDataset.get_loader(\n",
    "    batch_size=32, n_inputs=10000, random_gen_fn=gfo3.get_random_diskorect_channels,\n",
    "    random_gen_args={\n",
    "        \"size\": (50, 50, 3),\n",
    "        \"max_shape\": (50, 50),\n",
    "        \"n_shapes\": 1,\n",
    "        \"p_invert\": 0,\n",
    "        \"n_holes\": 0,\n",
    "        \"noise_proba\": 0\n",
    "    }, morp_operation=lambda x: union_chans(x, chans=[0, 1])\n",
    ")"
   ]
  },
  {
   "cell_type": "code",
   "execution_count": 23,
   "id": "7a948cca",
   "metadata": {
    "hidden": true
   },
   "outputs": [
    {
     "data": {
      "text/plain": [
       "<matplotlib.image.AxesImage at 0x7efd4168ea90>"
      ]
     },
     "execution_count": 23,
     "metadata": {},
     "output_type": "execute_result"
    },
    {
     "data": {
      "image/png": "[encoded data removed]",
      "text/plain": [
       "<Figure size 432x288 with 4 Axes>"
      ]
     },
     "metadata": {
      "needs_background": "light"
     },
     "output_type": "display_data"
    }
   ],
   "source": [
    "imgs, outs = next(iter(dataloader))\n",
    "img, out = imgs[0], outs[0]\n",
    "\n",
    "fig, axs = plt.subplots(1, img.shape[-1] + 1)\n",
    "for idx in range(img.shape[-1]):\n",
    "    axs[idx].imshow(img[..., idx], cmap='gray')\n",
    "    \n",
    "axs[img.shape[-1]].imshow(out, cmap='gray')\n"
   ]
  },
  {
   "cell_type": "code",
   "execution_count": 12,
   "id": "35107ffb",
   "metadata": {
    "hidden": true
   },
   "outputs": [],
   "source": [
    "reload_modules()\n",
    "model = lui.LUI(threshold_mode=\"tanh\", chan_inputs=3, chan_outputs=1,)"
   ]
  },
  {
   "cell_type": "code",
   "execution_count": 13,
   "id": "7895ca58",
   "metadata": {
    "hidden": true
   },
   "outputs": [
    {
     "data": {
      "text/plain": [
       "tensor(0.5731, grad_fn=<BinaryCrossEntropyBackward>)"
      ]
     },
     "execution_count": 13,
     "metadata": {},
     "output_type": "execute_result"
    }
   ],
   "source": [
    "nn.BCELoss()(model(imgs).squeeze(), outs)"
   ]
  },
  {
   "cell_type": "markdown",
   "id": "b1e69763",
   "metadata": {
    "heading_collapsed": true
   },
   "source": [
    "# Training"
   ]
  },
  {
   "cell_type": "code",
   "execution_count": 28,
   "id": "ba759fad",
   "metadata": {
    "hidden": true
   },
   "outputs": [],
   "source": [
    "reload_modules()\n",
    "class LightningLUI(NetLightning):\n",
    "\n",
    "    def __init__(\n",
    "        self,\n",
    "        model_args: Dict,\n",
    "        learning_rate: float,\n",
    "        loss: Callable,\n",
    "        optimizer: Callable,\n",
    "        output_dir: str,\n",
    "        optimizer_args: Dict = {},\n",
    "        observables: List[\"Observable\"] = [],\n",
    "    ):\n",
    "        super().__init__(\n",
    "            model=lui.LUI(**model_args),\n",
    "            learning_rate=learning_rate,\n",
    "            loss=loss,\n",
    "            optimizer=optimizer,\n",
    "            output_dir=output_dir,\n",
    "            optimizer_args=optimizer_args,\n",
    "            observables=observables,\n",
    "        )\n",
    "        self.save_hyperparameters()\n",
    "\n",
    "        # new_hparams = {}\n",
    "        # for key, value in self.hparams.items():\n",
    "        #     if isinstance(value, dict):\n",
    "        #         for key2, value2 in value.items():\n",
    "        #             new_hparams[f'{key}/{key2}'] = value2\n",
    "        # self.hparams.update(new_hparams)\n",
    "\n",
    "    def obs_training_step(self, batch, batch_idx):\n",
    "        x, y = batch\n",
    "        predictions = self.forward(x).squeeze()\n",
    "\n",
    "        outputs = {}\n",
    "\n",
    "        loss_supervised = self.loss(predictions, y)\n",
    "        outputs['loss'] = loss_supervised\n",
    "\n",
    "        return outputs, predictions\n"
   ]
  },
  {
   "cell_type": "code",
   "execution_count": 29,
   "id": "17b40b17",
   "metadata": {
    "hidden": true
   },
   "outputs": [],
   "source": [
    "reload_modules()\n",
    "\n",
    "def train_lui(args):\n",
    "    dataloader = mrd.DiskorectDataset.get_loader(\n",
    "        batch_size=args['batch_size'], n_inputs=args['n_inputs'], \n",
    "        random_gen_fn=gfo3.get_random_diskorect_channels,\n",
    "        random_gen_args={\n",
    "            \"size\": args[\"size\"],\n",
    "            \"max_shape\": args[\"max_shape\"],\n",
    "            \"n_shapes\": args[\"n_shapes\"],\n",
    "            \"p_invert\": args[\"p_invert\"],\n",
    "            \"n_holes\": args[\"n_holes\"],\n",
    "            \"noise_proba\": args[\"noise_proba\"],\n",
    "        }, morp_operation=args['morp_operation'],\n",
    "        num_workers=args['num_workers']\n",
    "    )\n",
    "    logger = TensorBoardLogger(\"deep_morpho/results\", name=args['name'], default_hp_metric=False)\n",
    "    print(f\"Tb path: {logger.log_dir}\")\n",
    "    metrics = {'dice': lambda y_true, y_pred: dice(y_true, y_pred, threshold=.5).mean()}\n",
    "\n",
    "    observables = [\n",
    "        obs.SaveLoss(),\n",
    "        CalculateAndLogMetrics(metrics=metrics, keep_preds_for_epoch=False),\n",
    "        obs.PlotPreds(freq=args['freq_imgs']),\n",
    "        obs.ConvergenceMetrics(metrics),\n",
    "        obs.PlotLUIParameters(),\n",
    "    ]\n",
    "\n",
    "    model = LightningLUI(\n",
    "        model_args={\n",
    "            \"threshold_mode\": args['threshold_mode'],\n",
    "            \"chan_inputs\": args['size'][-1],\n",
    "            \"chan_outputs\": 1,\n",
    "        },\n",
    "        loss=args['loss'],\n",
    "        optimizer=args['optimizer'],\n",
    "        learning_rate=args['lr'],\n",
    "        output_dir=logger.log_dir,\n",
    "        observables=observables.copy()\n",
    "    )\n",
    "\n",
    "    trainer = Trainer(\n",
    "        max_epochs=1,\n",
    "        gpus=1,\n",
    "        logger=logger,\n",
    "        callbacks=observables.copy(),\n",
    "        log_every_n_steps=10,\n",
    "    )\n",
    "    trainer.fit(model, dataloader) \n",
    "    for observable in observables:\n",
    "        observable.save(join(trainer.log_dir, 'observables'))\n",
    "    return dataloader, model"
   ]
  },
  {
   "cell_type": "code",
   "execution_count": 26,
   "id": "970f200d",
   "metadata": {
    "hidden": true
   },
   "outputs": [
    {
     "name": "stderr",
     "output_type": "stream",
     "text": [
      "GPU available: True, used: True\n",
      "TPU available: False, using: 0 TPU cores\n",
      "LOCAL_RANK: 0 - CUDA_VISIBLE_DEVICES: [0]\n",
      "\n",
      "  | Name  | Type    | Params\n",
      "----------------------------------\n",
      "0 | model | LUI     | 5     \n",
      "1 | loss  | BCELoss | 0     \n",
      "----------------------------------\n",
      "5         Trainable params\n",
      "0         Non-trainable params\n",
      "5         Total params\n",
      "0.000     Total estimated model params size (MB)\n"
     ]
    },
    {
     "name": "stdout",
     "output_type": "stream",
     "text": [
      "Tb path: deep_morpho/results/Bimonn_exp_35/version_4\n"
     ]
    },
    {
     "data": {
      "application/vnd.jupyter.widget-view+json": {
       "model_id": "",
       "version_major": 2,
       "version_minor": 0
      },
      "text/plain": [
       "Validation sanity check: 0it [00:00, ?it/s]"
      ]
     },
     "metadata": {},
     "output_type": "display_data"
    },
    {
     "data": {
      "application/vnd.jupyter.widget-view+json": {
       "model_id": "bcf55902e1ec421bbb9e0c46a0ef5555",
       "version_major": 2,
       "version_minor": 0
      },
      "text/plain": [
       "Training: 0it [00:00, ?it/s]"
      ]
     },
     "metadata": {},
     "output_type": "display_data"
    },
    {
     "ename": "NameError",
     "evalue": "name 'join' is not defined",
     "output_type": "error",
     "traceback": [
      "\u001b[0;31m---------------------------------------------------------------------------\u001b[0m",
      "\u001b[0;31mNameError\u001b[0m                                 Traceback (most recent call last)",
      "\u001b[0;32m<ipython-input-26-e965148ed02a>\u001b[0m in \u001b[0;36m<module>\u001b[0;34m\u001b[0m\n\u001b[1;32m     20\u001b[0m }\n\u001b[1;32m     21\u001b[0m \u001b[0;34m\u001b[0m\u001b[0m\n\u001b[0;32m---> 22\u001b[0;31m \u001b[0mdataloader\u001b[0m\u001b[0;34m,\u001b[0m \u001b[0mmodel\u001b[0m \u001b[0;34m=\u001b[0m \u001b[0mtrain_lui\u001b[0m\u001b[0;34m(\u001b[0m\u001b[0margs\u001b[0m\u001b[0;34m)\u001b[0m\u001b[0;34m\u001b[0m\u001b[0;34m\u001b[0m\u001b[0m\n\u001b[0m",
      "\u001b[0;32m<ipython-input-25-b40791cb7226>\u001b[0m in \u001b[0;36mtrain_lui\u001b[0;34m(args)\u001b[0m\n\u001b[1;32m     49\u001b[0m     \u001b[0mtrainer\u001b[0m\u001b[0;34m.\u001b[0m\u001b[0mfit\u001b[0m\u001b[0;34m(\u001b[0m\u001b[0mmodel\u001b[0m\u001b[0;34m,\u001b[0m \u001b[0mdataloader\u001b[0m\u001b[0;34m)\u001b[0m\u001b[0;34m\u001b[0m\u001b[0;34m\u001b[0m\u001b[0m\n\u001b[1;32m     50\u001b[0m     \u001b[0;32mfor\u001b[0m \u001b[0mobservable\u001b[0m \u001b[0;32min\u001b[0m \u001b[0mobservables\u001b[0m\u001b[0;34m:\u001b[0m\u001b[0;34m\u001b[0m\u001b[0;34m\u001b[0m\u001b[0m\n\u001b[0;32m---> 51\u001b[0;31m         \u001b[0mobservable\u001b[0m\u001b[0;34m.\u001b[0m\u001b[0msave\u001b[0m\u001b[0;34m(\u001b[0m\u001b[0mjoin\u001b[0m\u001b[0;34m(\u001b[0m\u001b[0mtrainer\u001b[0m\u001b[0;34m.\u001b[0m\u001b[0mlog_dir\u001b[0m\u001b[0;34m,\u001b[0m \u001b[0;34m'observables'\u001b[0m\u001b[0;34m)\u001b[0m\u001b[0;34m)\u001b[0m\u001b[0;34m\u001b[0m\u001b[0;34m\u001b[0m\u001b[0m\n\u001b[0m\u001b[1;32m     52\u001b[0m     \u001b[0;32mreturn\u001b[0m \u001b[0mdataloader\u001b[0m\u001b[0;34m,\u001b[0m \u001b[0mmodel\u001b[0m\u001b[0;34m\u001b[0m\u001b[0;34m\u001b[0m\u001b[0m\n",
      "\u001b[0;31mNameError\u001b[0m: name 'join' is not defined"
     ]
    }
   ],
   "source": [
    "reload_modules()\n",
    "\n",
    "args = {\n",
    "    \"name\": \"Bimonn_exp_35\",\n",
    "    \"loss\": nn.BCELoss(),\n",
    "    \"optimizer\": optim.Adam,\n",
    "    \"lr\": 1e-3,\n",
    "    \"freq_imgs\": 100,\n",
    "    \"size\": (50, 50, 3),\n",
    "    \"max_shape\": (50, 50),\n",
    "    \"n_shapes\": 5,\n",
    "    \"p_invert\": 0,\n",
    "    \"n_holes\": 0,\n",
    "    \"noise_proba\": 0,\n",
    "    \"batch_size\": 256,\n",
    "    \"n_inputs\": 2_000_000,\n",
    "    \"num_workers\": 20,\n",
    "    \"morp_operation\": lambda x: intersection_chans(x, chans=[0,1]),\n",
    "    \"threshold_mode\": \"tanh\",\n",
    "}\n",
    "\n",
    "dataloader, model = train_lui(args)"
   ]
  },
  {
   "cell_type": "code",
   "execution_count": 93,
   "id": "4c341acf",
   "metadata": {
    "hidden": true
   },
   "outputs": [],
   "source": [
    "ops_str = [\n",
    "    [  # layer 1. Input is one channel, we only put one operation. We output two channels.\n",
    "        [(\"erosion\", disk(3)), \"intersection\"],\n",
    "        [(\"dilation\", disk(3)), \"union\"],\n",
    "    ],\n",
    "    [  # layer 2. Input is two channels, we need two operations per channel. We output three channels.\n",
    "        [(\"erosion\", disk(3)), (\"dilation\", disk(3)), \"union\"],\n",
    "        [(\"dilation\", disk(3)), (\"erosion\", disk(3)), \"intersection\"],\n",
    "        [(\"dilation\", disk(3)), (\"dilation\", disk(3)), \"intersection\"],\n",
    "    ]\n",
    "]"
   ]
  },
  {
   "cell_type": "code",
   "execution_count": 89,
   "id": "94231e08",
   "metadata": {
    "hidden": true
   },
   "outputs": [],
   "source": [
    "def erodila_selem_converter(args):\n",
    "    str_to_selem_fn = {\n",
    "        'disk': disk, 'vstick': vstick, 'hstick': hstick, 'square': square, \n",
    "        'dcross': dcross, 'scross': scross,\n",
    "        'vertical_stick': vstick, 'horizontal_stick': hstick, \n",
    "        'diagonal_cross': dcross, 'straight_cross': scross,\n",
    "    }\n",
    "    selem_name = None\n",
    "    selem_args = None\n",
    "    if not isinstance(args, tuple):\n",
    "        return args, selem_name, selem_args\n",
    "    if isinstance(args[0], str):\n",
    "        selem_name = args[0]\n",
    "        selem_op = str_to_selem_fn[selem_name]\n",
    "    else:\n",
    "        selem_op = args[0]\n",
    "\n",
    "    selem_args = args[1]\n",
    "    return selem_op(selem_args), selem_name, selem_args\n",
    "\n",
    "def erodila_op_converter(args):\n",
    "    str_to_fn = {'dilation': am.array_dilation, 'erosion': am.array_erosion}\n",
    "    \n",
    "    op_name = None\n",
    "    selem_name = None\n",
    "    selem_args = None\n",
    "    \n",
    "    if not isinstance(args, tuple):\n",
    "        return args, op_name, selem_name, selem_args\n",
    "\n",
    "    if isinstance(args[0], str):\n",
    "        op_name = args[0]\n",
    "        op_fn = str_to_fn[args[0]]\n",
    "    else:\n",
    "        op_fn = args[0]\n",
    "    \n",
    "    selem, selem_name, selem_args = erodila_selem_converter(args[1])\n",
    "    return lambda x: op_fn(x, selem=selem), op_name, selem_name, selem_args\n",
    "\n",
    "def ui_converter(args):\n",
    "    str_to_fn = {'union': union_chans, 'intersection': intersection_chans}\n",
    "    \n",
    "    ui_name = None\n",
    "    ui_args = \"all\"\n",
    "    \n",
    "    if isinstance(args, tuple):\n",
    "        ui_fn = args[0]\n",
    "        ui_args = args[1]\n",
    "    else:\n",
    "        ui_fn = args\n",
    "    \n",
    "    if isinstance(ui_fn, str):\n",
    "        ui_name = ui_fn\n",
    "        ui_fn = str_to_fn[ui_name]\n",
    "    \n",
    "    return lambda x: ui_fn(x, ui_args), ui_name, ui_args\n",
    "    \n",
    "        \n",
    "def convert_ops(op_str):\n",
    "    res = []\n",
    "    for layer in op_str:\n",
    "        layer_res = []\n",
    "        for chan in layer:\n",
    "            chan_res = []\n",
    "            for op in chan[:-1]:\n",
    "                chan_res.append(erodila_op_converter(op)[0])\n",
    "            chan_res.append(ui_converter(chan[-1])[0])\n",
    "            layer_res.append(chan_res)\n",
    "        res.append(layer_res)\n",
    "    return res"
   ]
  },
  {
   "cell_type": "code",
   "execution_count": 90,
   "id": "f2c6ae1d",
   "metadata": {
    "hidden": true
   },
   "outputs": [
    {
     "data": {
      "text/plain": [
       "[[[<function __main__.erodila_op_converter.<locals>.<lambda>(x)>,\n",
       "   <function __main__.ui_converter.<locals>.<lambda>(x)>],\n",
       "  [<function __main__.erodila_op_converter.<locals>.<lambda>(x)>,\n",
       "   <function __main__.ui_converter.<locals>.<lambda>(x)>]],\n",
       " [[<function __main__.erodila_op_converter.<locals>.<lambda>(x)>,\n",
       "   <function __main__.erodila_op_converter.<locals>.<lambda>(x)>,\n",
       "   <function __main__.ui_converter.<locals>.<lambda>(x)>],\n",
       "  ['dilation',\n",
       "   <function __main__.erodila_op_converter.<locals>.<lambda>(x)>,\n",
       "   <function __main__.ui_converter.<locals>.<lambda>(x)>],\n",
       "  [<function __main__.erodila_op_converter.<locals>.<lambda>(x)>,\n",
       "   <function __main__.erodila_op_converter.<locals>.<lambda>(x)>,\n",
       "   <function __main__.ui_converter.<locals>.<lambda>(x)>]]]"
      ]
     },
     "execution_count": 90,
     "metadata": {},
     "output_type": "execute_result"
    }
   ],
   "source": [
    "convert_ops(ops_str)"
   ]
  },
  {
   "cell_type": "code",
   "execution_count": 19,
   "id": "080da146",
   "metadata": {
    "hidden": true
   },
   "outputs": [],
   "source": [
    "ero = am.array_erosion\n",
    "dil = am.array_dilation\n",
    "uni = union_chans\n",
    "inter = intersection_chans\n",
    "\n",
    "ops_fn = [\n",
    "    [\n",
    "        [lambda x: ero(x, selem=disk(3)), inter],\n",
    "        [lambda x: dil(x, selem=disk(3)), uni],\n",
    "    ],\n",
    "    [\n",
    "        [lambda x: ero(x, selem=disk(3)), lambda x: dil(x, selem=disk(3)), uni],\n",
    "        [lambda x: dil(x, selem=disk(3)), lambda x: ero(x, selem=disk(3)), inter],\n",
    "        [lambda x: dil(x, selem=disk(3)), lambda x: dil(x, selem=disk(3)), inter],\n",
    "    ],\n",
    "]"
   ]
  },
  {
   "cell_type": "code",
   "execution_count": 34,
   "id": "d665f2ce",
   "metadata": {
    "hidden": true
   },
   "outputs": [],
   "source": [
    "str_to_fn = {\n",
    "    'erosion': am.array_erosion,\n",
    "    'dilation': am.array_dilation,\n",
    "    'intersection': intersection_chans,\n",
    "    'union': union_chans,\n",
    "}"
   ]
  },
  {
   "cell_type": "code",
   "execution_count": 65,
   "id": "0de9e83a",
   "metadata": {
    "hidden": true
   },
   "outputs": [],
   "source": [
    "inpt = disk(20)[..., None]\n",
    "\n",
    "def apply_ops(inpt, ops_fn):\n",
    "    x = inpt + 0\n",
    "    for layer in ops_fn:\n",
    "        next_x = np.zeros(x.shape[:-1] + (len(layer),))\n",
    "        for chan_idx, chan in enumerate(layer):\n",
    "            morps, ui = chan[:-1], chan[-1]\n",
    "            next_x[..., chan_idx] = ui(\n",
    "                np.stack([morps[idx](x[..., idx]) for idx in range(len(morps))], axis=-1)\n",
    "            )\n",
    "        x = next_x\n",
    "    return x"
   ]
  },
  {
   "cell_type": "code",
   "execution_count": 94,
   "id": "67d6b8ab",
   "metadata": {
    "hidden": true
   },
   "outputs": [],
   "source": [
    "otp1 = apply_ops(inpt, ops_fn)\n",
    "otp2 = apply_ops(inpt, convert_ops(ops_str))"
   ]
  },
  {
   "cell_type": "code",
   "execution_count": 92,
   "id": "a9f959b5",
   "metadata": {
    "hidden": true
   },
   "outputs": [
    {
     "data": {
      "text/plain": [
       "[[[<function __main__.erodila_op_converter.<locals>.<lambda>(x)>,\n",
       "   <function __main__.ui_converter.<locals>.<lambda>(x)>],\n",
       "  [<function __main__.erodila_op_converter.<locals>.<lambda>(x)>,\n",
       "   <function __main__.ui_converter.<locals>.<lambda>(x)>]],\n",
       " [[<function __main__.erodila_op_converter.<locals>.<lambda>(x)>,\n",
       "   <function __main__.erodila_op_converter.<locals>.<lambda>(x)>,\n",
       "   <function __main__.ui_converter.<locals>.<lambda>(x)>],\n",
       "  ['dilation',\n",
       "   <function __main__.erodila_op_converter.<locals>.<lambda>(x)>,\n",
       "   <function __main__.ui_converter.<locals>.<lambda>(x)>],\n",
       "  [<function __main__.erodila_op_converter.<locals>.<lambda>(x)>,\n",
       "   <function __main__.erodila_op_converter.<locals>.<lambda>(x)>,\n",
       "   <function __main__.ui_converter.<locals>.<lambda>(x)>]]]"
      ]
     },
     "execution_count": 92,
     "metadata": {},
     "output_type": "execute_result"
    }
   ],
   "source": [
    "\n",
    "convert_ops(ops_str)"
   ]
  },
  {
   "cell_type": "code",
   "execution_count": 59,
   "id": "f9cf8388",
   "metadata": {
    "hidden": true
   },
   "outputs": [],
   "source": [
    "reload_modules()\n",
    "\n",
    "ops_str = [\n",
    "    [  # layer 1. Input is one channel, we only put one operation. We output two channels.\n",
    "        [(\"erosion\", (\"disk\", 3)), \"intersection\"],\n",
    "        [(\"dilation\", (\"disk\", 3)), \"union\"],\n",
    "    ],\n",
    "    [  # layer 2. Input is two channels, we need two operations per channel. We output three channels.\n",
    "        [(\"erosion\", (\"disk\", 3)), (\"dilation\", (\"disk\", 3)), \"union\"],\n",
    "        [(\"dilation\", (\"disk\", 3)), (\"erosion\", (\"disk\", 3)), \"intersection\"],\n",
    "        [(\"dilation\", (\"disk\", 3)), (\"dilation\", (\"disk\", 3)), \"intersection\"],\n",
    "    ]\n",
    "]\n",
    "\n",
    "ops_fn = [\n",
    "    [\n",
    "        [lambda x: ero(x, selem=disk(3)), inter],\n",
    "        [lambda x: dil(x, selem=disk(3)), uni],\n",
    "    ],\n",
    "    [\n",
    "        [lambda x: ero(x, selem=disk(3)), lambda x: dil(x, selem=disk(3)), uni],\n",
    "        [lambda x: dil(x, selem=disk(3)), lambda x: ero(x, selem=disk(3)), inter],\n",
    "        [lambda x: dil(x, selem=disk(3)), lambda x: dil(x, selem=disk(3)), inter],\n",
    "    ],\n",
    "]\n",
    "\n",
    "morp1 = mo.ParallelMorpOperations(ops_str)\n",
    "morp2 = mo.ParallelMorpOperations(ops_fn)"
   ]
  },
  {
   "cell_type": "code",
   "execution_count": 62,
   "id": "942c6a7f",
   "metadata": {
    "hidden": true
   },
   "outputs": [
    {
     "data": {
      "text/plain": [
       "ParallelMorpOperations(in_channels=1, out_channels=3)\n",
       "    Layer0(in_channels=1, out_channels=2)\n",
       "        Out0: inter(chans=all) | erosion(disk(3))\n",
       "        Out1: union(chans=all) | dilation(disk(3))\n",
       "    Layer1(in_channels=2, out_channels=3)\n",
       "        Out0: union(chans=all) | erosion(disk(3)) dilation(disk(3))\n",
       "        Out1: inter(chans=all) | dilation(disk(3)) erosion(disk(3))\n",
       "        Out2: inter(chans=all) | dilation(disk(3)) dilation(disk(3))"
      ]
     },
     "execution_count": 62,
     "metadata": {},
     "output_type": "execute_result"
    }
   ],
   "source": [
    "morp1"
   ]
  },
  {
   "cell_type": "code",
   "execution_count": 63,
   "id": "20e80f40",
   "metadata": {
    "hidden": true
   },
   "outputs": [
    {
     "data": {
      "text/plain": [
       "ParallelMorpOperations(in_channels=1, out_channels=3)\n",
       "    Layer0(in_channels=1, out_channels=2)\n",
       "        Out0: None(chans=all) | None(None(None))\n",
       "        Out1: None(chans=all) | None(None(None))\n",
       "    Layer1(in_channels=2, out_channels=3)\n",
       "        Out0: None(chans=all) | None(None(None)) None(None(None))\n",
       "        Out1: None(chans=all) | None(None(None)) None(None(None))\n",
       "        Out2: None(chans=all) | None(None(None)) None(None(None))"
      ]
     },
     "execution_count": 63,
     "metadata": {},
     "output_type": "execute_result"
    }
   ],
   "source": [
    "morp2"
   ]
  },
  {
   "cell_type": "code",
   "execution_count": 36,
   "id": "789b4be3",
   "metadata": {
    "hidden": true
   },
   "outputs": [
    {
     "data": {
      "text/plain": [
       "[2, 3]"
      ]
     },
     "execution_count": 36,
     "metadata": {},
     "output_type": "execute_result"
    }
   ],
   "source": [
    "morp1.out_channels"
   ]
  },
  {
   "cell_type": "code",
   "execution_count": 25,
   "id": "f9fbbe4d",
   "metadata": {
    "hidden": true
   },
   "outputs": [
    {
     "data": {
      "text/plain": [
       "0.0"
      ]
     },
     "execution_count": 25,
     "metadata": {},
     "output_type": "execute_result"
    }
   ],
   "source": [
    "reload_modules()\n",
    "\n",
    "inpt = disk(20)[..., None]\n",
    "\n",
    "(morp1(inpt) - morp2(inpt)).sum()"
   ]
  },
  {
   "cell_type": "code",
   "execution_count": 27,
   "id": "3f87e5a4",
   "metadata": {
    "hidden": true
   },
   "outputs": [
    {
     "data": {
      "text/plain": [
       "[[[3], [3]], [[3, 3], [3, 3], [3, 3]]]"
      ]
     },
     "execution_count": 27,
     "metadata": {},
     "output_type": "execute_result"
    }
   ],
   "source": [
    "morp1.selem_args"
   ]
  },
  {
   "cell_type": "markdown",
   "id": "a07608e3",
   "metadata": {},
   "source": [
    "# Conv Bise Multi Chan"
   ]
  },
  {
   "cell_type": "code",
   "execution_count": 9,
   "id": "e32b60fa",
   "metadata": {},
   "outputs": [
    {
     "ename": "ValueError",
     "evalue": "out_channels must be divisible by groups",
     "output_type": "error",
     "traceback": [
      "\u001b[0;31m---------------------------------------------------------------------------\u001b[0m",
      "\u001b[0;31mValueError\u001b[0m                                Traceback (most recent call last)",
      "\u001b[0;32m<ipython-input-9-e34373af9cdf>\u001b[0m in \u001b[0;36m<module>\u001b[0;34m\u001b[0m\n\u001b[0;32m----> 1\u001b[0;31m \u001b[0mlayer1\u001b[0m \u001b[0;34m=\u001b[0m \u001b[0mnn\u001b[0m\u001b[0;34m.\u001b[0m\u001b[0mConv2d\u001b[0m\u001b[0;34m(\u001b[0m\u001b[0;36m3\u001b[0m\u001b[0;34m,\u001b[0m \u001b[0;36m4\u001b[0m\u001b[0;34m,\u001b[0m \u001b[0;36m3\u001b[0m\u001b[0;34m,\u001b[0m \u001b[0mgroups\u001b[0m\u001b[0;34m=\u001b[0m\u001b[0;36m3\u001b[0m\u001b[0;34m)\u001b[0m\u001b[0;34m\u001b[0m\u001b[0;34m\u001b[0m\u001b[0m\n\u001b[0m\u001b[1;32m      2\u001b[0m \u001b[0mlayer2\u001b[0m \u001b[0;34m=\u001b[0m \u001b[0mnn\u001b[0m\u001b[0;34m.\u001b[0m\u001b[0mConv2d\u001b[0m\u001b[0;34m(\u001b[0m\u001b[0;36m3\u001b[0m\u001b[0;34m,\u001b[0m \u001b[0;36m4\u001b[0m\u001b[0;34m,\u001b[0m \u001b[0;36m3\u001b[0m\u001b[0;34m,\u001b[0m \u001b[0mgroups\u001b[0m\u001b[0;34m=\u001b[0m\u001b[0;36m1\u001b[0m\u001b[0;34m)\u001b[0m\u001b[0;34m\u001b[0m\u001b[0;34m\u001b[0m\u001b[0m\n",
      "\u001b[0;32m/hdd/python_venvs/torchenv/lib/python3.8/site-packages/torch/nn/modules/conv.py\u001b[0m in \u001b[0;36m__init__\u001b[0;34m(self, in_channels, out_channels, kernel_size, stride, padding, dilation, groups, bias, padding_mode)\u001b[0m\n\u001b[1;32m    384\u001b[0m         \u001b[0mpadding_\u001b[0m \u001b[0;34m=\u001b[0m \u001b[0m_pair\u001b[0m\u001b[0;34m(\u001b[0m\u001b[0mpadding\u001b[0m\u001b[0;34m)\u001b[0m\u001b[0;34m\u001b[0m\u001b[0;34m\u001b[0m\u001b[0m\n\u001b[1;32m    385\u001b[0m         \u001b[0mdilation_\u001b[0m \u001b[0;34m=\u001b[0m \u001b[0m_pair\u001b[0m\u001b[0;34m(\u001b[0m\u001b[0mdilation\u001b[0m\u001b[0;34m)\u001b[0m\u001b[0;34m\u001b[0m\u001b[0;34m\u001b[0m\u001b[0m\n\u001b[0;32m--> 386\u001b[0;31m         super(Conv2d, self).__init__(\n\u001b[0m\u001b[1;32m    387\u001b[0m             \u001b[0min_channels\u001b[0m\u001b[0;34m,\u001b[0m \u001b[0mout_channels\u001b[0m\u001b[0;34m,\u001b[0m \u001b[0mkernel_size_\u001b[0m\u001b[0;34m,\u001b[0m \u001b[0mstride_\u001b[0m\u001b[0;34m,\u001b[0m \u001b[0mpadding_\u001b[0m\u001b[0;34m,\u001b[0m \u001b[0mdilation_\u001b[0m\u001b[0;34m,\u001b[0m\u001b[0;34m\u001b[0m\u001b[0;34m\u001b[0m\u001b[0m\n\u001b[1;32m    388\u001b[0m             False, _pair(0), groups, bias, padding_mode)\n",
      "\u001b[0;32m/hdd/python_venvs/torchenv/lib/python3.8/site-packages/torch/nn/modules/conv.py\u001b[0m in \u001b[0;36m__init__\u001b[0;34m(self, in_channels, out_channels, kernel_size, stride, padding, dilation, transposed, output_padding, groups, bias, padding_mode)\u001b[0m\n\u001b[1;32m     80\u001b[0m             \u001b[0;32mraise\u001b[0m \u001b[0mValueError\u001b[0m\u001b[0;34m(\u001b[0m\u001b[0;34m'in_channels must be divisible by groups'\u001b[0m\u001b[0;34m)\u001b[0m\u001b[0;34m\u001b[0m\u001b[0;34m\u001b[0m\u001b[0m\n\u001b[1;32m     81\u001b[0m         \u001b[0;32mif\u001b[0m \u001b[0mout_channels\u001b[0m \u001b[0;34m%\u001b[0m \u001b[0mgroups\u001b[0m \u001b[0;34m!=\u001b[0m \u001b[0;36m0\u001b[0m\u001b[0;34m:\u001b[0m\u001b[0;34m\u001b[0m\u001b[0;34m\u001b[0m\u001b[0m\n\u001b[0;32m---> 82\u001b[0;31m             \u001b[0;32mraise\u001b[0m \u001b[0mValueError\u001b[0m\u001b[0;34m(\u001b[0m\u001b[0;34m'out_channels must be divisible by groups'\u001b[0m\u001b[0;34m)\u001b[0m\u001b[0;34m\u001b[0m\u001b[0;34m\u001b[0m\u001b[0m\n\u001b[0m\u001b[1;32m     83\u001b[0m         \u001b[0mvalid_padding_modes\u001b[0m \u001b[0;34m=\u001b[0m \u001b[0;34m{\u001b[0m\u001b[0;34m'zeros'\u001b[0m\u001b[0;34m,\u001b[0m \u001b[0;34m'reflect'\u001b[0m\u001b[0;34m,\u001b[0m \u001b[0;34m'replicate'\u001b[0m\u001b[0;34m,\u001b[0m \u001b[0;34m'circular'\u001b[0m\u001b[0;34m}\u001b[0m\u001b[0;34m\u001b[0m\u001b[0;34m\u001b[0m\u001b[0m\n\u001b[1;32m     84\u001b[0m         \u001b[0;32mif\u001b[0m \u001b[0mpadding_mode\u001b[0m \u001b[0;32mnot\u001b[0m \u001b[0;32min\u001b[0m \u001b[0mvalid_padding_modes\u001b[0m\u001b[0;34m:\u001b[0m\u001b[0;34m\u001b[0m\u001b[0;34m\u001b[0m\u001b[0m\n",
      "\u001b[0;31mValueError\u001b[0m: out_channels must be divisible by groups"
     ]
    }
   ],
   "source": [
    "layer1 = nn.Conv2d(3, 4, 3, groups=3)\n",
    "layer2 = nn.Conv2d(3, 4, 3, groups=1)"
   ]
  },
  {
   "cell_type": "code",
   "execution_count": 8,
   "id": "c00ded9d",
   "metadata": {},
   "outputs": [
    {
     "name": "stdout",
     "output_type": "stream",
     "text": [
      "torch.Size([3, 1, 3, 3])\n",
      "torch.Size([3, 3, 3, 3])\n"
     ]
    }
   ],
   "source": [
    "print(layer1.weight.shape)\n",
    "print(layer2.weight.shape)"
   ]
  },
  {
   "cell_type": "code",
   "execution_count": 21,
   "id": "9d9576aa",
   "metadata": {},
   "outputs": [
    {
     "ename": "SyntaxError",
     "evalue": "invalid syntax (<ipython-input-21-5732c1589702>, line 13)",
     "output_type": "error",
     "traceback": [
      "\u001b[0;36m  File \u001b[0;32m\"<ipython-input-21-5732c1589702>\"\u001b[0;36m, line \u001b[0;32m13\u001b[0m\n\u001b[0;31m    self.luis =\u001b[0m\n\u001b[0m                ^\u001b[0m\n\u001b[0;31mSyntaxError\u001b[0m\u001b[0;31m:\u001b[0m invalid syntax\n"
     ]
    }
   ],
   "source": [
    "class BiSEL(nn.Module):\n",
    "    \n",
    "    def __init__(\n",
    "        self, in_channels, out_channels, kernel_size, threshold_mode='tanh', *args, **kwargs\n",
    "    ):\n",
    "        super().__init__()\n",
    "        self.in_channels = in_channels\n",
    "        self.out_channels = out_channels\n",
    "        self.kernel_size = kernel_size\n",
    "        \n",
    "        self.bises = [\n",
    "            bise.BiSE(\n",
    "                out_channels=out_channels, kernel_size=kernel_size, *args,\n",
    "                padding='same', threshold_mode=threshold_mode, **kwargs\n",
    "            ) for _ in range(in_channels)\n",
    "        ]\n",
    "        self.luis = [\n",
    "            lui.LUI(chan_inputs=in_channels, threshold_mode=threshold_mode, chan_outputs=1)\n",
    "            for _ in range(out_channels)\n",
    "        ]\n",
    "    \n",
    "    def forward(self, x):\n",
    "        bise_res = torch.cat([layer(x[..., chan])[:, None, ...] \n",
    "                              for chan, layer in enumerate(self.bises)], axis=1)\n",
    "        return"
   ]
  },
  {
   "cell_type": "code",
   "execution_count": 52,
   "id": "4950ac6c",
   "metadata": {},
   "outputs": [],
   "source": [
    "reload_modules()\n",
    "\n",
    "in_channels = 3\n",
    "out_channels = 5\n",
    "kernel_size = (3, 3)\n",
    "threshold_mode = 'tanh'\n",
    "\n",
    "layer_bises = [\n",
    "    bise.BiSE(\n",
    "        out_channels=out_channels, kernel_size=kernel_size,\n",
    "        threshold_mode=threshold_mode,\n",
    "    ) for _ in range(in_channels)\n",
    "]\n",
    "\n",
    "layer_luis = [\n",
    "    lui.LUI(chan_inputs=in_channels, threshold_mode=threshold_mode, chan_outputs=1)\n",
    "    for _ in range(out_channels)\n",
    "]"
   ]
  },
  {
   "cell_type": "code",
   "execution_count": 53,
   "id": "95326c11",
   "metadata": {},
   "outputs": [],
   "source": [
    "x = torch.ones((1, 3, 50, 50,))"
   ]
  },
  {
   "cell_type": "code",
   "execution_count": 54,
   "id": "cf83c65f",
   "metadata": {},
   "outputs": [],
   "source": [
    "bise_res = torch.cat([layer(x[:, chan:chan+1,...])[:, None, ...] \n",
    "                              for chan, layer in enumerate(layer_bises)], axis=1)\n",
    "lui_res = torch.cat([\n",
    "    layer(bise_res[:, :, chan, ...]) for chan, layer in enumerate(layer_luis)\n",
    "], axis=1)"
   ]
  },
  {
   "cell_type": "code",
   "execution_count": 183,
   "id": "a9a6d921",
   "metadata": {},
   "outputs": [],
   "source": [
    "reload_modules()\n",
    "\n",
    "dataset = mrd.DiskorectDataset(\n",
    "    random_gen_fn=gfo3.get_random_diskorect_channels,\n",
    "    random_gen_args={\"size\": (50, 50, 1), \"n_shapes\": 10, \"p_invert\": 0, \"noise_proba\": 0,\n",
    "                    \"n_holes\": 0, \"max_shape\": (30, 30)},\n",
    "    morp_operation=mo.ParallelMorpOperations(\n",
    "        operations=[\n",
    "            [\n",
    "                [('dilation', ('disk', 2)), 'union'],\n",
    "                [('erosion', ('scross', 5)), 'union'],\n",
    "#                 [('dilation', ('scross', 3)), ('dilation', ('disk', 0)), 'union'],\n",
    "            ]\n",
    "        ]\n",
    "    )\n",
    ")"
   ]
  },
  {
   "cell_type": "code",
   "execution_count": 184,
   "id": "0412acd9",
   "metadata": {},
   "outputs": [
    {
     "data": {
      "image/png": "[encoded data removed]",
      "text/plain": [
       "<Figure size 576x576 with 4 Axes>"
      ]
     },
     "metadata": {
      "needs_background": "light"
     },
     "output_type": "display_data"
    }
   ],
   "source": [
    "img, target = dataset[0]\n",
    "\n",
    "ncols = max(img.shape[0], target.shape[0])\n",
    "fig, axs = plt.subplots(2, ncols, figsize=(4*ncols, 4*2))\n",
    "\n",
    "for chan in range(img.shape[0]):\n",
    "    axs[0, chan].imshow(img[chan], cmap='gray')\n",
    "\n",
    "for chan in range(target.shape[0]):\n",
    "    axs[1, chan].imshow(target[chan], cmap='gray')"
   ]
  },
  {
   "cell_type": "code",
   "execution_count": 190,
   "id": "8fa1bb40",
   "metadata": {},
   "outputs": [
    {
     "data": {
      "text/plain": [
       "[[array([[0, 0, 1, 0, 0],\n",
       "         [0, 1, 1, 1, 0],\n",
       "         [1, 1, 1, 1, 1],\n",
       "         [0, 1, 1, 1, 0],\n",
       "         [0, 0, 1, 0, 0]], dtype=uint8)],\n",
       " [array([[0., 0., 1., 0., 0.],\n",
       "         [0., 0., 1., 0., 0.],\n",
       "         [1., 1., 1., 1., 1.],\n",
       "         [0., 0., 1., 0., 0.],\n",
       "         [0., 0., 1., 0., 0.]])]]"
      ]
     },
     "execution_count": 190,
     "metadata": {},
     "output_type": "execute_result"
    }
   ],
   "source": [
    "dataset.morp_fn.selems[0]"
   ]
  },
  {
   "cell_type": "code",
   "execution_count": null,
   "id": "3805f6c2",
   "metadata": {},
   "outputs": [],
   "source": []
  },
  {
   "cell_type": "code",
   "execution_count": 272,
   "id": "62fcd500",
   "metadata": {},
   "outputs": [
    {
     "data": {
      "text/plain": [
       "tensor([-0.5000, -8.5000])"
      ]
     },
     "execution_count": 272,
     "metadata": {},
     "output_type": "execute_result"
    }
   ],
   "source": [
    "reload_modules()\n",
    "model = bisel.BiSEL(in_channels=1, out_channels=2, kernel_size=5)\n",
    "\n",
    "new_weights = torch.zeros((2, 1, 5, 5))\n",
    "\n",
    "new_weights[0, 0] = (torch.tensor(dataset.morp_fn.selems[0][0][0]) - .5) * 40\n",
    "new_weights[1, 0] = (torch.tensor(dataset.morp_fn.selems[0][1][0]) - .5) * 40\n",
    "model.bises[0].set_weights(new_weights)\n",
    "\n",
    "\n",
    "new_bias = torch.zeros(2)\n",
    "new_bias[0] = 0.5\n",
    "new_bias[1] = dataset.morp_fn.selems[0][1][0].sum() - 0.5\n",
    "model.bises[0].set_bias(-new_bias)\n"
   ]
  },
  {
   "cell_type": "code",
   "execution_count": 274,
   "id": "a906b6a2",
   "metadata": {},
   "outputs": [
    {
     "data": {
      "text/plain": [
       "(array([[False, False,  True, False, False],\n",
       "        [False, False,  True, False, False],\n",
       "        [ True,  True,  True,  True,  True],\n",
       "        [False, False,  True, False, False],\n",
       "        [False, False,  True, False, False]]),\n",
       " 'erosion')"
      ]
     },
     "execution_count": 274,
     "metadata": {},
     "output_type": "execute_result"
    }
   ],
   "source": [
    "model.bises[0].find_selem_and_operation_chan(1)"
   ]
  },
  {
   "cell_type": "code",
   "execution_count": 271,
   "id": "6ee50d6b",
   "metadata": {},
   "outputs": [
    {
     "data": {
      "text/plain": [
       "torch.Size([2, 1, 5, 5])"
      ]
     },
     "execution_count": 271,
     "metadata": {},
     "output_type": "execute_result"
    }
   ],
   "source": [
    "model.bises[0].weight.shape"
   ]
  },
  {
   "cell_type": "code",
   "execution_count": 238,
   "id": "35fc27f3",
   "metadata": {},
   "outputs": [
    {
     "data": {
      "text/plain": [
       "tensor([[[[2.0612e-09, 2.0612e-09, 1.0000e+00, 2.0612e-09, 2.0612e-09],\n",
       "          [2.0612e-09, 1.0000e+00, 1.0000e+00, 1.0000e+00, 2.0612e-09],\n",
       "          [1.0000e+00, 1.0000e+00, 1.0000e+00, 1.0000e+00, 1.0000e+00],\n",
       "          [2.0612e-09, 1.0000e+00, 1.0000e+00, 1.0000e+00, 2.0612e-09],\n",
       "          [2.0612e-09, 2.0612e-09, 1.0000e+00, 2.0612e-09, 2.0612e-09]]],\n",
       "\n",
       "\n",
       "        [[[2.0612e-09, 2.0612e-09, 1.0000e+00, 2.0612e-09, 2.0612e-09],\n",
       "          [2.0612e-09, 2.0612e-09, 1.0000e+00, 2.0612e-09, 2.0612e-09],\n",
       "          [1.0000e+00, 1.0000e+00, 1.0000e+00, 1.0000e+00, 1.0000e+00],\n",
       "          [2.0612e-09, 2.0612e-09, 1.0000e+00, 2.0612e-09, 2.0612e-09],\n",
       "          [2.0612e-09, 2.0612e-09, 1.0000e+00, 2.0612e-09, 2.0612e-09]]]],\n",
       "       grad_fn=<CatBackward>)"
      ]
     },
     "execution_count": 238,
     "metadata": {},
     "output_type": "execute_result"
    }
   ],
   "source": [
    "model.normalized_weight"
   ]
  },
  {
   "cell_type": "code",
   "execution_count": 252,
   "id": "7258d426",
   "metadata": {},
   "outputs": [],
   "source": [
    "otp = model.bises[0](img.unsqueeze(0))"
   ]
  },
  {
   "cell_type": "code",
   "execution_count": 256,
   "id": "b67977ee",
   "metadata": {},
   "outputs": [
    {
     "data": {
      "text/plain": [
       "tensor([0.0067, 0.9933, 1.0000, 1.0000], grad_fn=<Unique2Backward>)"
      ]
     },
     "execution_count": 256,
     "metadata": {},
     "output_type": "execute_result"
    }
   ],
   "source": [
    "otp[0, 0].unique()"
   ]
  },
  {
   "cell_type": "code",
   "execution_count": 261,
   "id": "0e915965",
   "metadata": {},
   "outputs": [
    {
     "data": {
      "text/plain": [
       "tensor([0.0067], grad_fn=<SigmoidBackward>)"
      ]
     },
     "execution_count": 261,
     "metadata": {},
     "output_type": "execute_result"
    }
   ],
   "source": [
    "model.bises[0].activation_threshold_layer(torch.tensor([-0.5]))"
   ]
  },
  {
   "cell_type": "code",
   "execution_count": 263,
   "id": "36ea42b8",
   "metadata": {},
   "outputs": [
    {
     "data": {
      "text/plain": [
       "tensor([[[[0.3791, 0.3791, 0.3791,  ..., 0.3791, 0.3791, 0.3791],\n",
       "          [0.3791, 0.3791, 0.3791,  ..., 0.3791, 0.3791, 0.3791],\n",
       "          [0.3791, 0.3791, 0.3791,  ..., 0.3791, 0.3791, 0.3791],\n",
       "          ...,\n",
       "          [0.3791, 0.3791, 0.3791,  ..., 0.3791, 0.3791, 0.3791],\n",
       "          [0.3791, 0.3791, 0.3791,  ..., 0.3791, 0.3791, 0.3791],\n",
       "          [0.3791, 0.3791, 0.3791,  ..., 0.3791, 0.3791, 0.3791]],\n",
       "\n",
       "         [[0.3775, 0.3775, 0.3775,  ..., 0.3775, 0.3775, 0.3775],\n",
       "          [0.3775, 0.3775, 0.3775,  ..., 0.3775, 0.3775, 0.3775],\n",
       "          [0.3775, 0.3775, 0.3775,  ..., 0.3775, 0.3775, 0.3775],\n",
       "          ...,\n",
       "          [0.3775, 0.3775, 0.3775,  ..., 0.3775, 0.3775, 0.3775],\n",
       "          [0.3775, 0.3775, 0.3775,  ..., 0.3775, 0.3775, 0.3775],\n",
       "          [0.3775, 0.3775, 0.3775,  ..., 0.3775, 0.3775, 0.3775]]]],\n",
       "       grad_fn=<CatBackward>)"
      ]
     },
     "execution_count": 263,
     "metadata": {},
     "output_type": "execute_result"
    }
   ],
   "source": [
    "model(img.unsqueeze(0))"
   ]
  },
  {
   "cell_type": "code",
   "execution_count": 266,
   "id": "c56430b2",
   "metadata": {},
   "outputs": [],
   "source": [
    "otp = model(img.unsqueeze(0))"
   ]
  },
  {
   "cell_type": "code",
   "execution_count": null,
   "id": "3909a3cd",
   "metadata": {},
   "outputs": [],
   "source": [
    "otp"
   ]
  },
  {
   "cell_type": "code",
   "execution_count": 268,
   "id": "1232b4aa",
   "metadata": {},
   "outputs": [
    {
     "data": {
      "text/plain": [
       "tensor([0.3791, 0.6209, 0.6225, 0.6225], grad_fn=<Unique2Backward>)"
      ]
     },
     "execution_count": 268,
     "metadata": {},
     "output_type": "execute_result"
    }
   ],
   "source": [
    "otp[0, 0].unique()"
   ]
  },
  {
   "cell_type": "code",
   "execution_count": 269,
   "id": "6675a518",
   "metadata": {},
   "outputs": [
    {
     "data": {
      "text/plain": [
       "<matplotlib.image.AxesImage at 0x7fc911ba9fd0>"
      ]
     },
     "execution_count": 269,
     "metadata": {},
     "output_type": "execute_result"
    },
    {
     "data": {
      "image/png": "[encoded data removed]",
      "text/plain": [
       "<Figure size 432x288 with 2 Axes>"
      ]
     },
     "metadata": {
      "needs_background": "light"
     },
     "output_type": "display_data"
    }
   ],
   "source": [
    "plt.subplot(121)\n",
    "plt.imshow(otp[0, 0].detach(), cmap='gray')\n",
    "\n",
    "plt.subplot(122)\n",
    "plt.imshow(otp[0, 1].detach(), cmap='gray')"
   ]
  },
  {
   "cell_type": "code",
   "execution_count": 4,
   "id": "c4ba489b",
   "metadata": {},
   "outputs": [],
   "source": [
    "model = bimonn.BiMoNN(\n",
    "    kernel_size=[5],\n",
    "    channels=[1, 2]\n",
    ")"
   ]
  },
  {
   "cell_type": "code",
   "execution_count": 9,
   "id": "f0e5bdb9",
   "metadata": {},
   "outputs": [],
   "source": [
    "otp = model(torch.ones(1, 1, 50, 50))"
   ]
  },
  {
   "cell_type": "code",
   "execution_count": 11,
   "id": "3582dfd2",
   "metadata": {},
   "outputs": [],
   "source": [
    "otp.sum().backward()"
   ]
  },
  {
   "cell_type": "code",
   "execution_count": null,
   "id": "fb521f53",
   "metadata": {},
   "outputs": [],
   "source": []
  }
 ],
 "metadata": {
  "kernelspec": {
   "display_name": "torchenv",
   "language": "python",
   "name": "torchenv"
  },
  "language_info": {
   "codemirror_mode": {
    "name": "ipython",
    "version": 3
   },
   "file_extension": ".py",
   "mimetype": "text/x-python",
   "name": "python",
   "nbconvert_exporter": "python",
   "pygments_lexer": "ipython3",
   "version": "3.8.0"
  },
  "toc": {
   "base_numbering": 1,
   "nav_menu": {},
   "number_sections": true,
   "sideBar": true,
   "skip_h1_title": false,
   "title_cell": "Table of Contents",
   "title_sidebar": "Contents",
   "toc_cell": false,
   "toc_position": {},
   "toc_section_display": true,
   "toc_window_display": false
  }
 },
 "nbformat": 4,
 "nbformat_minor": 5
}
